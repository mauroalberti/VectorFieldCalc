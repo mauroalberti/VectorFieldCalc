{
 "cells": [
  {
   "cell_type": "markdown",
   "metadata": {},
   "source": [
    "# Divergence, curl module and other field vector field parameters"
   ]
  },
  {
   "cell_type": "markdown",
   "metadata": {},
   "source": [
    "This document present some examples of vector field processing using pygsf methods."
   ]
  },
  {
   "cell_type": "markdown",
   "metadata": {},
   "source": [
    "## Preliminary settings"
   ]
  },
  {
   "cell_type": "markdown",
   "metadata": {},
   "source": [
    "In order to plot fields, we run the following commands:"
   ]
  },
  {
   "cell_type": "code",
   "execution_count": 1,
   "metadata": {},
   "outputs": [],
   "source": [
    "%matplotlib inline\n",
    "import matplotlib.pyplot as plt"
   ]
  },
  {
   "cell_type": "markdown",
   "metadata": {},
   "source": [
    "The modules to import for dealing with grids are:"
   ]
  },
  {
   "cell_type": "code",
   "execution_count": 2,
   "metadata": {},
   "outputs": [],
   "source": [
    "from pygsf.mathematics.arrays import *"
   ]
  },
  {
   "cell_type": "code",
   "execution_count": 3,
   "metadata": {},
   "outputs": [],
   "source": [
    "from pygsf.mathematics.geotransform import *"
   ]
  },
  {
   "cell_type": "code",
   "execution_count": 4,
   "metadata": {},
   "outputs": [],
   "source": [
    "from pygsf.mathematics.mapping import *"
   ]
  },
  {
   "cell_type": "markdown",
   "metadata": {},
   "source": [
    "## Fields and geotransform definitions"
   ]
  },
  {
   "cell_type": "markdown",
   "metadata": {},
   "source": [
    "We calculate a theoretical, 2D vector field and check that the parameters calculated by *pygsf* is equal to the expected one.\n",
    "\n",
    "We use a modified example from p. 67 in [1]."
   ]
  },
  {
   "cell_type": "markdown",
   "metadata": {},
   "source": [
    "\\begin{equation*}\n",
    " \\vec{\\mathbf{v}} = 0.0001 x y^3  \\vec{\\mathbf{i}} - 0.0002  x^2 y  \\vec{\\mathbf{j}} + 0  \\vec{\\mathbf{k}}\n",
    "\\end{equation*}\n",
    "\n"
   ]
  },
  {
   "cell_type": "markdown",
   "metadata": {},
   "source": [
    "In order to create the two grids that represent the x- and the y-components, we therefore define the following two \"transfer\" functions from coordinates to z values: "
   ]
  },
  {
   "cell_type": "code",
   "execution_count": 5,
   "metadata": {},
   "outputs": [],
   "source": [
    "def z_func_fx(x, y):\n",
    "\n",
    "    return 0.0001 * x * y**3\n",
    "\n",
    "def z_func_fy(x, y):\n",
    "\n",
    "    return - 0.0002 * x**2 * y"
   ]
  },
  {
   "cell_type": "markdown",
   "metadata": {},
   "source": [
    "The above functions define the value of the cells, using the given x and y geographic coordinates."
   ]
  },
  {
   "cell_type": "markdown",
   "metadata": {},
   "source": [
    "Gridded field values are calculated for the theoretical source vector field x- and y- components using the provided number of rows and columns for the grid:"
   ]
  },
  {
   "cell_type": "code",
   "execution_count": 6,
   "metadata": {},
   "outputs": [],
   "source": [
    "rows=200; cols=200"
   ]
  },
  {
   "cell_type": "code",
   "execution_count": 7,
   "metadata": {},
   "outputs": [],
   "source": [
    "size_x = 0.25; size_y = 0.25"
   ]
  },
  {
   "cell_type": "code",
   "execution_count": 8,
   "metadata": {},
   "outputs": [],
   "source": [
    "tlx = 15.0; tly = 30.0 "
   ]
  },
  {
   "cell_type": "markdown",
   "metadata": {},
   "source": [
    "Arrays components are defined in terms of indices *i* and *j*, so to transform array indices to geographical coordinates we use a geotransform. The one chosen is:"
   ]
  },
  {
   "cell_type": "code",
   "execution_count": 9,
   "metadata": {},
   "outputs": [],
   "source": [
    "gt1 = GeoTransform(\n",
    "    inTopLeftX=tlx, \n",
    "    inTopLeftY=tly, \n",
    "    inPixWidth=size_x, \n",
    "    inPixHeight=size_y)"
   ]
  },
  {
   "cell_type": "markdown",
   "metadata": {},
   "source": [
    "Note that the chosen geotransform has no axis rotation, as is in the most part of cases with geographic grids."
   ]
  },
  {
   "cell_type": "markdown",
   "metadata": {},
   "source": [
    "### vector field x-component"
   ]
  },
  {
   "cell_type": "code",
   "execution_count": 10,
   "metadata": {},
   "outputs": [],
   "source": [
    "fx = array_from_function(\n",
    "    row_num=rows, \n",
    "    col_num=cols, \n",
    "    geotransform=gt1, \n",
    "    z_transfer_func=z_func_fx)"
   ]
  },
  {
   "cell_type": "code",
   "execution_count": 11,
   "metadata": {},
   "outputs": [
    {
     "name": "stdout",
     "output_type": "stream",
     "text": [
      "[[ 40.32915525  40.99575286  41.66235046 ... 171.64888391 172.31548152\n",
      "  172.98207913]\n",
      " [ 39.32515657  39.97515916  40.62516174 ... 167.37566638 168.02566897\n",
      "  168.67567156]\n",
      " [ 38.33796082  38.97164612  39.60533142 ... 163.17396545 163.80765076\n",
      "  164.44133606]\n",
      " ...\n",
      " [-11.00070496 -11.18253479 -11.36436462 ... -46.82118225 -47.00301208\n",
      "  -47.18484192]\n",
      " [-11.43205696 -11.62101658 -11.8099762  ... -48.65710193 -48.84606155\n",
      "  -49.03502117]\n",
      " [-11.87454001 -12.0708134  -12.26708679 ... -50.54039758 -50.73667097\n",
      "  -50.93294436]]\n"
     ]
    }
   ],
   "source": [
    "print(fx)"
   ]
  },
  {
   "cell_type": "code",
   "execution_count": 12,
   "metadata": {},
   "outputs": [
    {
     "data": {
      "text/plain": [
       "<matplotlib.colorbar.Colorbar at 0x7fb99a7a7cf8>"
      ]
     },
     "execution_count": 12,
     "metadata": {},
     "output_type": "execute_result"
    },
    {
     "data": {
      "image/png": "[encoded data removed]",
      "text/plain": [
       "<Figure size 432x288 with 2 Axes>"
      ]
     },
     "metadata": {},
     "output_type": "display_data"
    }
   ],
   "source": [
    "plt.imshow(fx); plt.colorbar()"
   ]
  },
  {
   "cell_type": "markdown",
   "metadata": {},
   "source": [
    "### vector field y-component"
   ]
  },
  {
   "cell_type": "code",
   "execution_count": 13,
   "metadata": {},
   "outputs": [],
   "source": [
    "fy = array_from_function(\n",
    "    row_num=rows, \n",
    "    col_num=cols, \n",
    "    geotransform=gt1, \n",
    "    z_transfer_func=z_func_fy)"
   ]
  },
  {
   "cell_type": "code",
   "execution_count": 14,
   "metadata": {},
   "outputs": [
    {
     "name": "stdout",
     "output_type": "stream",
     "text": [
      "[[ -1.36687461  -1.41243398  -1.45874023 ... -24.76124023 -24.95393398\n",
      "  -25.14737461]\n",
      " [ -1.35543633  -1.40061445  -1.4465332  ... -24.5540332  -24.74511445\n",
      "  -24.93693633]\n",
      " [ -1.34399805  -1.38879492  -1.43432617 ... -24.34682617 -24.53629492\n",
      "  -24.72649805]\n",
      " ...\n",
      " [  0.8864668    0.91601367   0.94604492 ...  16.05854492  16.18351367\n",
      "   16.3089668 ]\n",
      " [  0.89790508   0.9278332    0.95825195 ...  16.26575195  16.3923332\n",
      "   16.51940508]\n",
      " [  0.90934336   0.93965273   0.97045898 ...  16.47295898  16.60115273\n",
      "   16.72984336]]\n"
     ]
    }
   ],
   "source": [
    "print(fy)"
   ]
  },
  {
   "cell_type": "code",
   "execution_count": 15,
   "metadata": {},
   "outputs": [
    {
     "data": {
      "text/plain": [
       "<matplotlib.colorbar.Colorbar at 0x7fb9986c8780>"
      ]
     },
     "execution_count": 15,
     "metadata": {},
     "output_type": "execute_result"
    },
    {
     "data": {
      "image/png": "[encoded data removed]",
      "text/plain": [
       "<Figure size 432x288 with 2 Axes>"
      ]
     },
     "metadata": {},
     "output_type": "display_data"
    }
   ],
   "source": [
    "plt.imshow(fy); plt.colorbar()"
   ]
  },
  {
   "cell_type": "markdown",
   "metadata": {},
   "source": [
    "## Testing divergence"
   ]
  },
  {
   "cell_type": "markdown",
   "metadata": {},
   "source": [
    "The definition of divergence for our 2D case is:"
   ]
  },
  {
   "cell_type": "markdown",
   "metadata": {},
   "source": [
    "\\begin{align}\n",
    "divergence = \\nabla \\cdot \\vec{\\mathbf{v}} & = \\frac{\\partial{v_x}}{\\partial x} + \\frac{\\partial{v_y}}{\\partial y}\n",
    "\\end{align}"
   ]
  },
  {
   "cell_type": "markdown",
   "metadata": {},
   "source": [
    "### theoretical divergence"
   ]
  },
  {
   "cell_type": "markdown",
   "metadata": {},
   "source": [
    "Since the vector field formula is:"
   ]
  },
  {
   "cell_type": "markdown",
   "metadata": {},
   "source": [
    "\\begin{equation*}\n",
    " \\vec{\\mathbf{v}} = 0.0001 x y^3  \\vec{\\mathbf{i}} - 0.0002  x^2 y  \\vec{\\mathbf{j}} + 0  \\vec{\\mathbf{k}}\n",
    "\\end{equation*}"
   ]
  },
  {
   "cell_type": "markdown",
   "metadata": {},
   "source": [
    "the theoretical divergence transfer function is:"
   ]
  },
  {
   "cell_type": "code",
   "execution_count": 16,
   "metadata": {},
   "outputs": [],
   "source": [
    "def z_func_div(x, y):\n",
    "    \n",
    "    return 0.0001 * y**3 - 0.0002 * x**2"
   ]
  },
  {
   "cell_type": "markdown",
   "metadata": {},
   "source": [
    "The theoretical divergence field can be created using the function expressing the analytical derivatives *z_func_div*:"
   ]
  },
  {
   "cell_type": "code",
   "execution_count": 17,
   "metadata": {},
   "outputs": [],
   "source": [
    "theor_div = array_from_function(\n",
    "    row_num=rows, \n",
    "    col_num=cols, \n",
    "    geotransform=gt1, \n",
    "    z_transfer_func=z_func_div)"
   ]
  },
  {
   "cell_type": "code",
   "execution_count": 18,
   "metadata": {},
   "outputs": [
    {
     "name": "stdout",
     "output_type": "stream",
     "text": [
      "[[ 2.6206373   2.6191123   2.6175623  ...  1.8375623   1.8311123\n",
      "   1.8246373 ]\n",
      " [ 2.55425723  2.55273223  2.55118223 ...  1.77118223  1.76473223\n",
      "   1.75825723]\n",
      " [ 2.48898809  2.48746309  2.48591309 ...  1.70591309  1.69946309\n",
      "   1.69298809]\n",
      " ...\n",
      " [-0.77307246 -0.77459746 -0.77614746 ... -1.55614746 -1.56259746\n",
      "  -1.56907246]\n",
      " [-0.8015916  -0.8031166  -0.8046666  ... -1.5846666  -1.5911166\n",
      "  -1.5975916 ]\n",
      " [-0.83084668 -0.83237168 -0.83392168 ... -1.61392168 -1.62037168\n",
      "  -1.62684668]]\n"
     ]
    }
   ],
   "source": [
    "print(theor_div)"
   ]
  },
  {
   "cell_type": "code",
   "execution_count": 19,
   "metadata": {},
   "outputs": [
    {
     "data": {
      "text/plain": [
       "<matplotlib.colorbar.Colorbar at 0x7fb9986ad550>"
      ]
     },
     "execution_count": 19,
     "metadata": {},
     "output_type": "execute_result"
    },
    {
     "data": {
      "image/png": "[encoded data removed]",
      "text/plain": [
       "<Figure size 432x288 with 2 Axes>"
      ]
     },
     "metadata": {},
     "output_type": "display_data"
    }
   ],
   "source": [
    "plt.imshow(theor_div); plt.colorbar()"
   ]
  },
  {
   "cell_type": "markdown",
   "metadata": {},
   "source": [
    "### pygsf-estimated divergence"
   ]
  },
  {
   "cell_type": "markdown",
   "metadata": {},
   "source": [
    "Divergence as resulting from pygsf calculation:"
   ]
  },
  {
   "cell_type": "code",
   "execution_count": 20,
   "metadata": {},
   "outputs": [],
   "source": [
    "div = divergence_2D(\n",
    "    fld_x=fx, \n",
    "    fld_y=fy, \n",
    "    cell_size_x=size_x, \n",
    "    cell_size_y=size_y)"
   ]
  },
  {
   "cell_type": "code",
   "execution_count": 21,
   "metadata": {},
   "outputs": [
    {
     "name": "stdout",
     "output_type": "stream",
     "text": [
      "[[ 2.6206373   2.6191123   2.6175623  ...  1.8375623   1.8311123\n",
      "   1.8246373 ]\n",
      " [ 2.55425723  2.55273223  2.55118223 ...  1.77118223  1.76473223\n",
      "   1.75825723]\n",
      " [ 2.48898809  2.48746309  2.48591309 ...  1.70591309  1.69946309\n",
      "   1.69298809]\n",
      " ...\n",
      " [-0.77307246 -0.77459746 -0.77614746 ... -1.55614746 -1.56259746\n",
      "  -1.56907246]\n",
      " [-0.8015916  -0.8031166  -0.8046666  ... -1.5846666  -1.5911166\n",
      "  -1.5975916 ]\n",
      " [-0.83084668 -0.83237168 -0.83392168 ... -1.61392168 -1.62037168\n",
      "  -1.62684668]]\n"
     ]
    }
   ],
   "source": [
    "print(div)"
   ]
  },
  {
   "cell_type": "code",
   "execution_count": 22,
   "metadata": {},
   "outputs": [
    {
     "data": {
      "text/plain": [
       "<matplotlib.colorbar.Colorbar at 0x7fb99860e160>"
      ]
     },
     "execution_count": 22,
     "metadata": {},
     "output_type": "execute_result"
    },
    {
     "data": {
      "image/png": "[encoded data removed]",
      "text/plain": [
       "<Figure size 432x288 with 2 Axes>"
      ]
     },
     "metadata": {},
     "output_type": "display_data"
    }
   ],
   "source": [
    "plt.imshow(div); plt.colorbar()"
   ]
  },
  {
   "cell_type": "markdown",
   "metadata": {},
   "source": [
    "We check whether the theoretical and the estimated divergence fields are close:"
   ]
  },
  {
   "cell_type": "code",
   "execution_count": 23,
   "metadata": {},
   "outputs": [
    {
     "data": {
      "text/plain": [
       "True"
      ]
     },
     "execution_count": 23,
     "metadata": {},
     "output_type": "execute_result"
    }
   ],
   "source": [
    "np.allclose(theor_div, div)"
   ]
  },
  {
   "cell_type": "markdown",
   "metadata": {},
   "source": [
    "## Testing curl module"
   ]
  },
  {
   "cell_type": "markdown",
   "metadata": {},
   "source": [
    "The definition of curl module in our 2D case is:"
   ]
  },
  {
   "cell_type": "markdown",
   "metadata": {},
   "source": [
    "\\begin{equation*}\n",
    "\\nabla \\times \\vec{\\mathbf{v}} =  \\begin{vmatrix}\n",
    "\\mathbf{i} & \\mathbf{j} & \\mathbf{k} \\\\\n",
    "\\frac{\\partial }{\\partial x} &  \\frac{\\partial }{\\partial y} & \\frac{\\partial }{\\partial z} \\\\\n",
    "{v_x} &  {v_y} & 0\n",
    "\\end{vmatrix}\n",
    "\\end{equation*}"
   ]
  },
  {
   "cell_type": "markdown",
   "metadata": {},
   "source": [
    "so that the module of the curl is:"
   ]
  },
  {
   "cell_type": "markdown",
   "metadata": {},
   "source": [
    "\\begin{equation*}\n",
    " |curl| = \\frac{\\partial v_y}{\\partial x} - \\frac{\\partial v_x}{\\partial y}\n",
    "\\end{equation*}"
   ]
  },
  {
   "cell_type": "markdown",
   "metadata": {},
   "source": [
    "### theoretical curl module"
   ]
  },
  {
   "cell_type": "markdown",
   "metadata": {},
   "source": [
    "The vector function is:"
   ]
  },
  {
   "cell_type": "markdown",
   "metadata": {},
   "source": [
    "\\begin{equation*}\n",
    " \\vec{\\mathbf{v}} = 0.0001 x y^3  \\vec{\\mathbf{i}} - 0.0002  x^2 y  \\vec{\\mathbf{j}} + 0  \\vec{\\mathbf{k}}\n",
    "\\end{equation*}"
   ]
  },
  {
   "cell_type": "markdown",
   "metadata": {},
   "source": [
    "therefore the theoretical curl module is:"
   ]
  },
  {
   "cell_type": "markdown",
   "metadata": {},
   "source": [
    "\\begin{equation*}\n",
    " curl = 0.0004 x y + 0.0003 x y^2\n",
    "\\end{equation*}"
   ]
  },
  {
   "cell_type": "markdown",
   "metadata": {},
   "source": [
    "so that the theoretical transfer function is:"
   ]
  },
  {
   "cell_type": "code",
   "execution_count": 24,
   "metadata": {},
   "outputs": [],
   "source": [
    "def z_func_curl_mod(x, y):\n",
    "    \n",
    "    return 0.0004 * x * y + 0.0003 * x * y**2"
   ]
  },
  {
   "cell_type": "markdown",
   "metadata": {},
   "source": [
    "The theoretical divergence field can be created using the function expressing the analytical derivatives *z_func_div*:"
   ]
  },
  {
   "cell_type": "code",
   "execution_count": 25,
   "metadata": {},
   "outputs": [],
   "source": [
    "theor_curl_mod = array_from_function(\n",
    "    row_num=rows, \n",
    "    col_num=cols, \n",
    "    geotransform=gt1, \n",
    "    z_transfer_func=z_func_curl_mod)"
   ]
  },
  {
   "cell_type": "code",
   "execution_count": 26,
   "metadata": {},
   "outputs": [
    {
     "name": "stdout",
     "output_type": "stream",
     "text": [
      "[[ 4.2305334   4.30045957  4.37038574 ... 18.00598926 18.07591543\n",
      "  18.1458416 ]\n",
      " [ 4.16152559  4.23031113  4.29909668 ... 17.71227832 17.78106387\n",
      "  17.84984941]\n",
      " [ 4.09308496  4.16073926  4.22839355 ... 17.42098145 17.48863574\n",
      "  17.55629004]\n",
      " ...\n",
      " [ 1.58611621  1.61233301  1.6385498  ...  6.7508252   6.77704199\n",
      "   6.80325879]\n",
      " [ 1.62884434  1.65576738  1.68269043 ...  6.93268457  6.95960762\n",
      "   6.98653066]\n",
      " [ 1.67213965  1.69977832  1.72741699 ...  7.11695801  7.14459668\n",
      "   7.17223535]]\n"
     ]
    }
   ],
   "source": [
    "print(theor_curl_mod)"
   ]
  },
  {
   "cell_type": "code",
   "execution_count": 27,
   "metadata": {},
   "outputs": [
    {
     "data": {
      "text/plain": [
       "<matplotlib.colorbar.Colorbar at 0x7fb9985eaef0>"
      ]
     },
     "execution_count": 27,
     "metadata": {},
     "output_type": "execute_result"
    },
    {
     "data": {
      "image/png": "[encoded data removed]",
      "text/plain": [
       "<Figure size 432x288 with 2 Axes>"
      ]
     },
     "metadata": {},
     "output_type": "display_data"
    }
   ],
   "source": [
    "plt.imshow(theor_curl_mod); plt.colorbar()"
   ]
  },
  {
   "cell_type": "markdown",
   "metadata": {},
   "source": [
    "### pygsf-estimated module of curl"
   ]
  },
  {
   "cell_type": "markdown",
   "metadata": {},
   "source": [
    "The implementation of the curl module calculation has been debugged using the code at http://www.johnny-lin.com/ams2011/sc/arrays_io/as/hide/py-curl-soln.shtml by Johnny Lin (http://www.johnny-lin.com/index.shtml). Deviations from the expected theoretical values are the same for both implementations.\n",
    "\n",
    "The module of curl as resulting from pygsf calculation is:"
   ]
  },
  {
   "cell_type": "code",
   "execution_count": null,
   "metadata": {},
   "outputs": [],
   "source": []
  },
  {
   "cell_type": "code",
   "execution_count": 28,
   "metadata": {},
   "outputs": [],
   "source": [
    "curl_module = curl_mod(\n",
    "    fld_x=fx, \n",
    "    fld_y=fy, \n",
    "    cell_size_x=size_x, \n",
    "    cell_size_y=size_y)"
   ]
  },
  {
   "cell_type": "code",
   "execution_count": 29,
   "metadata": {},
   "outputs": [
    {
     "name": "stdout",
     "output_type": "stream",
     "text": [
      "[[ 4.23183809  4.30026738  4.37019043 ... 18.00518457 18.07510762\n",
      "  18.14353691]\n",
      " [ 4.16310137  4.23040723  4.29919434 ... 17.71268066 17.78146777\n",
      "  17.84877363]\n",
      " [ 4.09464824  4.16083535  4.22849121 ... 17.42138379 17.48903965\n",
      "  17.55522676]\n",
      " ...\n",
      " [ 1.58524199  1.6124291   1.63864746 ...  6.75122754  6.7774459\n",
      "   6.80463301]\n",
      " [ 1.62795762  1.65586348  1.68278809 ...  6.93308691  6.96001152\n",
      "   6.98791738]\n",
      " [ 1.67095684  1.69958613  1.72722168 ...  7.11615332  7.14378887\n",
      "   7.17241816]]\n"
     ]
    }
   ],
   "source": [
    "print(curl_module)"
   ]
  },
  {
   "cell_type": "code",
   "execution_count": 30,
   "metadata": {},
   "outputs": [
    {
     "data": {
      "text/plain": [
       "<matplotlib.colorbar.Colorbar at 0x7fb998548710>"
      ]
     },
     "execution_count": 30,
     "metadata": {},
     "output_type": "execute_result"
    },
    {
     "data": {
      "image/png": "[encoded data removed]",
      "text/plain": [
       "<Figure size 432x288 with 2 Axes>"
      ]
     },
     "metadata": {},
     "output_type": "display_data"
    }
   ],
   "source": [
    "plt.imshow(curl_module); plt.colorbar()"
   ]
  },
  {
   "cell_type": "markdown",
   "metadata": {},
   "source": [
    "We check whether the theoretical and the estimated curl module fields are close:"
   ]
  },
  {
   "cell_type": "code",
   "execution_count": 31,
   "metadata": {},
   "outputs": [
    {
     "data": {
      "text/plain": [
       "False"
      ]
     },
     "execution_count": 31,
     "metadata": {},
     "output_type": "execute_result"
    }
   ],
   "source": [
    "np.allclose(theor_curl_mod, curl_module)"
   ]
  },
  {
   "cell_type": "markdown",
   "metadata": {},
   "source": [
    "We look at where there are significant differences between the theoretical and the empiric curl module fields, by calculating the percent difference between these two fields:"
   ]
  },
  {
   "cell_type": "code",
   "execution_count": 32,
   "metadata": {},
   "outputs": [
    {
     "data": {
      "text/plain": [
       "<matplotlib.colorbar.Colorbar at 0x7fb998529080>"
      ]
     },
     "execution_count": 32,
     "metadata": {},
     "output_type": "execute_result"
    },
    {
     "data": {
      "image/png": "[encoded data removed]",
      "text/plain": [
       "<Figure size 432x288 with 2 Axes>"
      ]
     },
     "metadata": {},
     "output_type": "display_data"
    }
   ],
   "source": [
    "percent_diffs = 100.0*(curl_module - theor_curl_mod)/theor_curl_mod\n",
    "plt.imshow(percent_diffs); plt.colorbar()"
   ]
  },
  {
   "cell_type": "markdown",
   "metadata": {},
   "source": [
    "While the majority of the empiric values are near the theoretical ones, there is a horizontal strip at around *i=120* with very high deviances (both negative and positive) that are probably related to a \"singularity\" of the gradient along y of the v_x field."
   ]
  },
  {
   "cell_type": "code",
   "execution_count": 33,
   "metadata": {},
   "outputs": [
    {
     "data": {
      "image/png": "[encoded data removed]",
      "text/plain": [
       "<Figure size 432x288 with 1 Axes>"
      ]
     },
     "metadata": {},
     "output_type": "display_data"
    }
   ],
   "source": [
    "plt.hist(percent_diffs)  # arguments are passed to np.histogram\n",
    "plt.show()"
   ]
  },
  {
   "cell_type": "markdown",
   "metadata": {},
   "source": [
    "### References"
   ]
  },
  {
   "cell_type": "markdown",
   "metadata": {},
   "source": [
    "[1] M. R. Spiegel, 1975. Analisi Vettoriale. Etas Libri, pp. 224."
   ]
  }
 ],
 "metadata": {
  "kernelspec": {
   "display_name": "Python 3",
   "language": "python",
   "name": "python3"
  },
  "language_info": {
   "codemirror_mode": {
    "name": "ipython",
    "version": 3
   },
   "file_extension": ".py",
   "mimetype": "text/x-python",
   "name": "python",
   "nbconvert_exporter": "python",
   "pygments_lexer": "ipython3",
   "version": "3.5.2"
  }
 },
 "nbformat": 4,
 "nbformat_minor": 2
}
