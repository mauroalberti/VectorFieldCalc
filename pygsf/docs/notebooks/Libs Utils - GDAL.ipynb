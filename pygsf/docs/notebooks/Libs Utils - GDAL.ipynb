{
 "cells": [
  {
   "cell_type": "markdown",
   "metadata": {},
   "source": [
    "# Libs Utils - GDAL"
   ]
  },
  {
   "cell_type": "markdown",
   "metadata": {},
   "source": [
    "*May, 2018, Mauro Alberti, alberti.m65@gmail.com*"
   ]
  },
  {
   "cell_type": "markdown",
   "metadata": {},
   "source": [
    "## 1. Examples"
   ]
  },
  {
   "cell_type": "code",
   "execution_count": 1,
   "metadata": {},
   "outputs": [],
   "source": [
    "from pygsf.libs_utils.gdal.gdal import * "
   ]
  },
  {
   "cell_type": "markdown",
   "metadata": {},
   "source": [
    "Reading an example data"
   ]
  },
  {
   "cell_type": "code",
   "execution_count": 2,
   "metadata": {},
   "outputs": [],
   "source": [
    "data_path = \"../example_data/vx.asc\""
   ]
  },
  {
   "cell_type": "code",
   "execution_count": 3,
   "metadata": {},
   "outputs": [],
   "source": [
    "dataset, geotransform, num_bands, projection = read_raster(data_path)"
   ]
  },
  {
   "cell_type": "code",
   "execution_count": 4,
   "metadata": {},
   "outputs": [],
   "source": [
    "band_params, band_array = read_band(dataset, 1)"
   ]
  },
  {
   "cell_type": "code",
   "execution_count": 5,
   "metadata": {},
   "outputs": [
    {
     "name": "stdout",
     "output_type": "stream",
     "text": [
      "Geotransform: GeoTransform(topLeftX: 586661.40, topLeftY: 1707266.60, pixWidth: 356.20, pixHeight: -356.20, rotRow: 0.00, rotColumn: 0.00)\n",
      "Number of bands: 1\n",
      "Projection: \n",
      "Data type: Float32\n",
      "Unit type: \n",
      "Statistics: {'std_dev': -1.0, 'mean': 0.0, 'max': 0.0, 'min': 0.0}\n",
      "No data value: -9999.0\n",
      "Number of overviews: 0\n",
      "Number of color table entries: 0\n"
     ]
    }
   ],
   "source": [
    "print(\"Geotransform: {}\".format(geotransform))\n",
    "print(\"Number of bands: {}\".format(num_bands))\n",
    "print(\"Projection: {}\".format(projection))\n",
    "print(\"Data type: {}\".format(band_params[\"dataType\"]))\n",
    "print(\"Unit type: {}\".format(band_params[\"unitType\"]))\n",
    "print(\"Statistics: {}\".format(band_params[\"stats\"]))\n",
    "print(\"No data value: {}\".format(band_params[\"noData\"]))\n",
    "print(\"Number of overviews: {}\".format(band_params[\"numOverviews\"]))\n",
    "print(\"Number of color table entries: {}\".format(band_params[\"numColorTableEntries\"]))"
   ]
  }
 ],
 "metadata": {
  "kernelspec": {
   "display_name": "Python 3",
   "language": "python",
   "name": "python3"
  },
  "language_info": {
   "codemirror_mode": {
    "name": "ipython",
    "version": 3
   },
   "file_extension": ".py",
   "mimetype": "text/x-python",
   "name": "python",
   "nbconvert_exporter": "python",
   "pygments_lexer": "ipython3",
   "version": "3.5.2"
  }
 },
 "nbformat": 4,
 "nbformat_minor": 2
}
