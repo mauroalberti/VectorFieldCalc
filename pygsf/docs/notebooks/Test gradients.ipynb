{
 "cells": [
  {
   "cell_type": "code",
   "execution_count": 19,
   "metadata": {},
   "outputs": [],
   "source": [
    "import numpy as np"
   ]
  },
  {
   "cell_type": "markdown",
   "metadata": {},
   "source": [
    "From: http://www.johnny-lin.com/ams2011/sc/arrays_io/as/hide/py-slope-soln.shtml"
   ]
  },
  {
   "cell_type": "code",
   "execution_count": 30,
   "metadata": {},
   "outputs": [],
   "source": [
    "def gradient_x(fld: 'array', cell_size_x: float) -> 'array':\n",
    "    \"\"\"\n",
    "    Calculates the array gradient along the x axis.\n",
    "\n",
    "    :param fld: array.\n",
    "    :type fld: np.array.\n",
    "    :param cell_size_x: the cell spacing in the x direction.\n",
    "    :type cell_size_x: Number.\n",
    "    :return: gradient field.\n",
    "    :rtype: np.array.\n",
    "\n",
    "    Examples:\n",
    "    \"\"\"\n",
    "\n",
    "    return np.gradient(fld, edge_order=2, axis=1) / cell_size_x"
   ]
  },
  {
   "cell_type": "code",
   "execution_count": null,
   "metadata": {},
   "outputs": [],
   "source": [
    "def slope(y, x):\n",
    "\n",
    "    x_endpadded = np.zeros(np.size(x)+2, dtype=x.dtype.char)\n",
    "    x_endpadded[0]    = x[0]\n",
    "    x_endpadded[1:-1] = x \n",
    "    x_endpadded[-1]   = x[-1]\n",
    "\n",
    "    y_endpadded = np.zeros(np.size(y)+2, dtype=y.dtype.char)\n",
    "    y_endpadded[0]    = y[0]\n",
    "    y_endpadded[1:-1] = y\n",
    "    y_endpadded[-1]   = y[-1]\n",
    "\n",
    "    y_im1 = y_endpadded[:-2]\n",
    "    y_ip1 = y_endpadded[2:]\n",
    "    x_im1 = x_endpadded[:-2]\n",
    "    x_ip1 = x_endpadded[2:]\n",
    "\n",
    "    return (y_ip1 - y_im1) / (x_ip1 - x_im1)"
   ]
  },
  {
   "cell_type": "code",
   "execution_count": 31,
   "metadata": {},
   "outputs": [],
   "source": [
    "def curl(x, y, Fx, Fy):\n",
    "    \"\"\"Curl of a vector F on a 2-D \"rectangular\" grid.\n",
    "    \"\"\"\n",
    "\n",
    "    dFy_dx = np.zeros( (len(y), len(x)), typecode=np.Float )\n",
    "    dFx_dy = np.zeros( (len(y), len(x)), typecode=np.Float )\n",
    "\n",
    "    for iy in range(len(y)):\n",
    "        dFy_dx[iy,:] = slope( np.ravel(Fy[iy,:]), x )\n",
    "\n",
    "    for ix in range(len(x)):\n",
    "        dFx_dy[:,ix] = slope( np.ravel(Fx[:,ix]), y )\n",
    "\n",
    "    return dFy_dx - dFx_dy"
   ]
  },
  {
   "cell_type": "code",
   "execution_count": null,
   "metadata": {},
   "outputs": [],
   "source": [
    "def grad_indep(x, len_y, Fy):\n",
    "    \"\"\"Curl of a vector F on a 2-D \"rectangular\" grid.\n",
    "    \"\"\"\n",
    "\n",
    "    dFy_dx = np.zeros( (len_y, len(x)), typecode=np.Float )\n",
    "\n",
    "    for iy in range(len(y)):\n",
    "        dFy_dx[iy,:] = slope( np.ravel(Fy[iy,:]), x )\n",
    "\n",
    "    return dFy_dx"
   ]
  }
 ],
 "metadata": {
  "kernelspec": {
   "display_name": "Python 3",
   "language": "python",
   "name": "python3"
  },
  "language_info": {
   "codemirror_mode": {
    "name": "ipython",
    "version": 3
   },
   "file_extension": ".py",
   "mimetype": "text/x-python",
   "name": "python",
   "nbconvert_exporter": "python",
   "pygments_lexer": "ipython3",
   "version": "3.5.2"
  }
 },
 "nbformat": 4,
 "nbformat_minor": 2
}
