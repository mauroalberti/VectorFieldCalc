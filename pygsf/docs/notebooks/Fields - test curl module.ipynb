{
 "cells": [
  {
   "cell_type": "markdown",
   "metadata": {},
   "source": [
    "# Divergence, curl module and other field vector field parameters"
   ]
  },
  {
   "cell_type": "markdown",
   "metadata": {},
   "source": [
    "This document present some examples of vector field processing using pygsf methods."
   ]
  },
  {
   "cell_type": "markdown",
   "metadata": {},
   "source": [
    "## Preliminary settings"
   ]
  },
  {
   "cell_type": "markdown",
   "metadata": {},
   "source": [
    "In order to plot fields, we run the following commands:"
   ]
  },
  {
   "cell_type": "code",
   "execution_count": 2,
   "metadata": {},
   "outputs": [],
   "source": [
    "%matplotlib inline\n",
    "import matplotlib.pyplot as plt"
   ]
  },
  {
   "cell_type": "markdown",
   "metadata": {},
   "source": [
    "The modules to import for dealing with grids are:"
   ]
  },
  {
   "cell_type": "code",
   "execution_count": 3,
   "metadata": {},
   "outputs": [],
   "source": [
    "from pygsf.mathematics.arrays import *\n",
    "from pygsf.mathematics.geotransform import *\n",
    "from pygsf.mathematics.mapping import *"
   ]
  },
  {
   "cell_type": "markdown",
   "metadata": {},
   "source": [
    "## Fields and geotransform definitions"
   ]
  },
  {
   "cell_type": "markdown",
   "metadata": {},
   "source": [
    "We calculate a theoretical, 2D vector field and check that the parameters calculated by *pygsf* is equal to the expected one.\n",
    "\n",
    "We use a modified example from p. 67 in [1]."
   ]
  },
  {
   "cell_type": "markdown",
   "metadata": {},
   "source": [
    "\\begin{equation*}\n",
    " \\vec{\\mathbf{v}} = 0.0001 x y^3  \\vec{\\mathbf{i}} - 0.0002  x^2 y  \\vec{\\mathbf{j}} + 0  \\vec{\\mathbf{k}}\n",
    "\\end{equation*}\n",
    "\n"
   ]
  },
  {
   "cell_type": "markdown",
   "metadata": {},
   "source": [
    "In order to create the two grids that represent the x- and the y-components, we therefore define the following two \"transfer\" functions from coordinates to z values: "
   ]
  },
  {
   "cell_type": "code",
   "execution_count": 4,
   "metadata": {},
   "outputs": [],
   "source": [
    "def z_func_fx(x, y):\n",
    "\n",
    "    return 0.0001 * x * y**3\n",
    "\n",
    "def z_func_fy(x, y):\n",
    "\n",
    "    return - 0.0002 * x**2 * y"
   ]
  },
  {
   "cell_type": "markdown",
   "metadata": {},
   "source": [
    "The above functions define the value of the cells, using the given x and y geographic coordinates."
   ]
  },
  {
   "cell_type": "markdown",
   "metadata": {},
   "source": [
    "Gridded field values are calculated for the theoretical source vector field x- and y- components using the provided number of rows and columns for the grid:"
   ]
  },
  {
   "cell_type": "code",
   "execution_count": 5,
   "metadata": {},
   "outputs": [],
   "source": [
    "rows=200; cols=100"
   ]
  },
  {
   "cell_type": "code",
   "execution_count": 6,
   "metadata": {},
   "outputs": [],
   "source": [
    "size_x = 0.25; size_y = 0.25"
   ]
  },
  {
   "cell_type": "code",
   "execution_count": 7,
   "metadata": {},
   "outputs": [],
   "source": [
    "tlx = 15.0; tly = 30.0 "
   ]
  },
  {
   "cell_type": "markdown",
   "metadata": {},
   "source": [
    "Arrays components are defined in terms of indices *i* and *j*, so to transform array indices to geographical coordinates we use a geotransform. The one chosen is:"
   ]
  },
  {
   "cell_type": "code",
   "execution_count": 8,
   "metadata": {},
   "outputs": [],
   "source": [
    "gt1 = GeoTransform(\n",
    "    inTopLeftX=tlx, \n",
    "    inTopLeftY=tly, \n",
    "    inPixWidth=size_x, \n",
    "    inPixHeight=size_y)"
   ]
  },
  {
   "cell_type": "markdown",
   "metadata": {},
   "source": [
    "Note that the chosen geotransform has no axis rotation, as is in the most part of cases with geographic grids."
   ]
  },
  {
   "cell_type": "markdown",
   "metadata": {},
   "source": [
    "### vector field x-component"
   ]
  },
  {
   "cell_type": "code",
   "execution_count": 9,
   "metadata": {},
   "outputs": [],
   "source": [
    "fx = array_from_function(\n",
    "    row_num=rows, \n",
    "    col_num=cols, \n",
    "    geotransform=gt1, \n",
    "    z_transfer_func=z_func_fx)"
   ]
  },
  {
   "cell_type": "markdown",
   "metadata": {},
   "source": [
    "### vector field y-component"
   ]
  },
  {
   "cell_type": "code",
   "execution_count": 10,
   "metadata": {},
   "outputs": [],
   "source": [
    "fy = array_from_function(\n",
    "    row_num=rows, \n",
    "    col_num=cols, \n",
    "    geotransform=gt1, \n",
    "    z_transfer_func=z_func_fy)"
   ]
  },
  {
   "cell_type": "markdown",
   "metadata": {},
   "source": [
    "## Testing curl module"
   ]
  },
  {
   "cell_type": "markdown",
   "metadata": {},
   "source": [
    "The definition of curl module in our 2D case is:"
   ]
  },
  {
   "cell_type": "markdown",
   "metadata": {},
   "source": [
    "\\begin{equation*}\n",
    "\\nabla \\times \\vec{\\mathbf{v}} =  \\begin{vmatrix}\n",
    "\\mathbf{i} & \\mathbf{j} & \\mathbf{k} \\\\\n",
    "\\frac{\\partial }{\\partial x} &  \\frac{\\partial }{\\partial y} & \\frac{\\partial }{\\partial z} \\\\\n",
    "{v_x} &  {v_y} & 0\n",
    "\\end{vmatrix}\n",
    "\\end{equation*}"
   ]
  },
  {
   "cell_type": "markdown",
   "metadata": {},
   "source": [
    "so that the module of the curl is:"
   ]
  },
  {
   "cell_type": "markdown",
   "metadata": {},
   "source": [
    "\\begin{equation*}\n",
    " |curl| = \\frac{\\partial v_y}{\\partial x} - \\frac{\\partial v_x}{\\partial y}\n",
    "\\end{equation*}"
   ]
  },
  {
   "cell_type": "markdown",
   "metadata": {},
   "source": [
    "### theoretical curl module"
   ]
  },
  {
   "cell_type": "markdown",
   "metadata": {},
   "source": [
    "The vector function is:"
   ]
  },
  {
   "cell_type": "markdown",
   "metadata": {},
   "source": [
    "\\begin{equation*}\n",
    " \\vec{\\mathbf{v}} = 0.0001 x y^3  \\vec{\\mathbf{i}} - 0.0002  x^2 y  \\vec{\\mathbf{j}} + 0  \\vec{\\mathbf{k}}\n",
    "\\end{equation*}"
   ]
  },
  {
   "cell_type": "markdown",
   "metadata": {},
   "source": [
    "therefore the theoretical curl module is:"
   ]
  },
  {
   "cell_type": "markdown",
   "metadata": {},
   "source": [
    "\\begin{equation*}\n",
    " curl = 0.0004 x y + 0.0003 x y^2\n",
    "\\end{equation*}"
   ]
  },
  {
   "cell_type": "markdown",
   "metadata": {},
   "source": [
    "so that the theoretical transfer function is:"
   ]
  },
  {
   "cell_type": "code",
   "execution_count": 11,
   "metadata": {},
   "outputs": [],
   "source": [
    "def z_func_curl_mod(x, y):\n",
    "    \n",
    "    return 0.0004 * x * y + 0.0003 * x * y**2"
   ]
  },
  {
   "cell_type": "markdown",
   "metadata": {},
   "source": [
    "The theoretical divergence field can be created using the function expressing the analytical derivatives *z_func_div*:"
   ]
  },
  {
   "cell_type": "code",
   "execution_count": 12,
   "metadata": {},
   "outputs": [],
   "source": [
    "theor_curl_mod = array_from_function(\n",
    "    row_num=rows, \n",
    "    col_num=cols, \n",
    "    geotransform=gt1, \n",
    "    z_transfer_func=z_func_curl_mod)"
   ]
  },
  {
   "cell_type": "code",
   "execution_count": 13,
   "metadata": {},
   "outputs": [
    {
     "name": "stdout",
     "output_type": "stream",
     "text": [
      "[[ 4.2305334   4.30045957  4.37038574 ... 11.01337207 11.08329824\n",
      "  11.15322441]\n",
      " [ 4.16152559  4.23031113  4.29909668 ... 10.83372363 10.90250918\n",
      "  10.97129473]\n",
      " [ 4.09308496  4.16073926  4.22839355 ... 10.65555176 10.72320605\n",
      "  10.79086035]\n",
      " ...\n",
      " [ 1.58611621  1.61233301  1.6385498  ...  4.12914551  4.1553623\n",
      "   4.1815791 ]\n",
      " [ 1.62884434  1.65576738  1.68269043 ...  4.24037988  4.26730293\n",
      "   4.29422598]\n",
      " [ 1.67213965  1.69977832  1.72741699 ...  4.35309082  4.38072949\n",
      "   4.40836816]]\n"
     ]
    }
   ],
   "source": [
    "print(theor_curl_mod)"
   ]
  },
  {
   "cell_type": "code",
   "execution_count": 14,
   "metadata": {},
   "outputs": [
    {
     "data": {
      "text/plain": [
       "<matplotlib.colorbar.Colorbar at 0x7fb7532709b0>"
      ]
     },
     "execution_count": 14,
     "metadata": {},
     "output_type": "execute_result"
    },
    {
     "data": {
      "image/png": "[encoded data removed]",
      "text/plain": [
       "<Figure size 432x288 with 2 Axes>"
      ]
     },
     "metadata": {},
     "output_type": "display_data"
    }
   ],
   "source": [
    "plt.imshow(theor_curl_mod); plt.colorbar()"
   ]
  },
  {
   "cell_type": "markdown",
   "metadata": {},
   "source": [
    "### estimates of module of curl"
   ]
  },
  {
   "cell_type": "code",
   "execution_count": 15,
   "metadata": {},
   "outputs": [],
   "source": [
    "def gradient_x(fld: 'array', cell_size_x: float) -> 'array':\n",
    "\n",
    "\n",
    "    return np.gradient(fld, edge_order=1, axis=1) / cell_size_x"
   ]
  },
  {
   "cell_type": "code",
   "execution_count": 16,
   "metadata": {},
   "outputs": [],
   "source": [
    "def gradient_y(fld: 'array', cell_size_y: float) -> 'array':\n",
    "\n",
    "\n",
    "    return np.gradient(fld, edge_order=2, axis=0) / cell_size_y"
   ]
  },
  {
   "cell_type": "code",
   "execution_count": 17,
   "metadata": {},
   "outputs": [
    {
     "data": {
      "text/plain": [
       "'\\ndef slope(y, x):\\n\\n    import numpy as np\\n    x_endpadded = np.zeros(np.size(x)+2, dtype=x.dtype.char)\\n    x_endpadded[0]    = x[0]\\n    x_endpadded[1:-1] = x \\n    x_endpadded[-1]   = x[-1]\\n\\n    y_endpadded = np.zeros(np.size(y)+2, dtype=y.dtype.char)\\n    y_endpadded[0]    = y[0]\\n    y_endpadded[1:-1] = y\\n    y_endpadded[-1]   = y[-1]\\n\\n    y_im1 = y_endpadded[:-2]\\n    y_ip1 = y_endpadded[2:]\\n    x_im1 = x_endpadded[:-2]\\n    x_ip1 = x_endpadded[2:]\\n\\n    return (y_ip1 - y_im1) / (x_ip1 - x_im1)\\n\\ndef curl(x, y, Fx, Fy):\\n\\n    import numpy as np\\n\\n    dFy_dx = np.zeros( (len(y), len(x)), dtype=np.float64 )\\n    dFx_dy = np.zeros( (len(y), len(x)), dtype=np.float64 )\\n\\n    for iy in range(len(y)):\\n        dFy_dx[iy,:] = slope( np.ravel(Fy[iy,:]), x )\\n\\n    for ix in range(len(x)):\\n        dFx_dy[:,ix] = slope( np.ravel(Fx[:,ix]), y )\\n\\n    return dFx_dy - dFy_dx\\n'"
      ]
     },
     "execution_count": 17,
     "metadata": {},
     "output_type": "execute_result"
    }
   ],
   "source": [
    "\"\"\"\n",
    "def slope(y, x):\n",
    "\n",
    "    import numpy as np\n",
    "    x_endpadded = np.zeros(np.size(x)+2, dtype=x.dtype.char)\n",
    "    x_endpadded[0]    = x[0]\n",
    "    x_endpadded[1:-1] = x \n",
    "    x_endpadded[-1]   = x[-1]\n",
    "\n",
    "    y_endpadded = np.zeros(np.size(y)+2, dtype=y.dtype.char)\n",
    "    y_endpadded[0]    = y[0]\n",
    "    y_endpadded[1:-1] = y\n",
    "    y_endpadded[-1]   = y[-1]\n",
    "\n",
    "    y_im1 = y_endpadded[:-2]\n",
    "    y_ip1 = y_endpadded[2:]\n",
    "    x_im1 = x_endpadded[:-2]\n",
    "    x_ip1 = x_endpadded[2:]\n",
    "\n",
    "    return (y_ip1 - y_im1) / (x_ip1 - x_im1)\n",
    "\n",
    "def curl(x, y, Fx, Fy):\n",
    "\n",
    "    import numpy as np\n",
    "\n",
    "    dFy_dx = np.zeros( (len(y), len(x)), dtype=np.float64 )\n",
    "    dFx_dy = np.zeros( (len(y), len(x)), dtype=np.float64 )\n",
    "\n",
    "    for iy in range(len(y)):\n",
    "        dFy_dx[iy,:] = slope( np.ravel(Fy[iy,:]), x )\n",
    "\n",
    "    for ix in range(len(x)):\n",
    "        dFx_dy[:,ix] = slope( np.ravel(Fx[:,ix]), y )\n",
    "\n",
    "    return dFx_dy - dFy_dx\n",
    "\"\"\""
   ]
  },
  {
   "cell_type": "code",
   "execution_count": 18,
   "metadata": {},
   "outputs": [],
   "source": [
    "def slope(y, x):\n",
    "\n",
    "    x_endpadded = np.zeros(np.size(x)+2, dtype=x.dtype.char)\n",
    "    x_endpadded[0]    = x[0]\n",
    "    x_endpadded[1:-1] = x \n",
    "    x_endpadded[-1]   = x[-1]\n",
    "\n",
    "    y_endpadded = np.zeros(np.size(y)+2, dtype=y.dtype.char)\n",
    "    y_endpadded[0]    = y[0]\n",
    "    y_endpadded[1:-1] = y\n",
    "    y_endpadded[-1]   = y[-1]\n",
    "\n",
    "    y_im1 = y_endpadded[:-2]\n",
    "    y_ip1 = y_endpadded[2:]\n",
    "    x_im1 = x_endpadded[:-2]\n",
    "    x_ip1 = x_endpadded[2:]\n",
    "\n",
    "    return (y_ip1 - y_im1) / (x_ip1 - x_im1)"
   ]
  },
  {
   "cell_type": "code",
   "execution_count": 19,
   "metadata": {},
   "outputs": [],
   "source": [
    "def grad_indep_dx(x, y, Fy):\n",
    "    \"\"\"Curl of a vector F on a 2-D \"rectangular\" grid.\n",
    "    \"\"\"\n",
    "\n",
    "    dFy_dx = np.zeros( (len(y), len(x)), dtype=np.float64 )\n",
    "\n",
    "    for iy in range(len(y)):\n",
    "        dFy_dx[iy,:] = slope( np.ravel(Fy[iy,:]), x )\n",
    "\n",
    "    return dFy_dx"
   ]
  },
  {
   "cell_type": "code",
   "execution_count": 20,
   "metadata": {},
   "outputs": [],
   "source": [
    "def grad_indep_dy(x, y, Fx):\n",
    "    \"\"\"Curl of a vector F on a 2-D \"rectangular\" grid.\n",
    "    \"\"\"\n",
    "\n",
    "    dFx_dy = np.zeros( (len(y), len(x)), dtype=np.float64 )\n",
    "\n",
    "    for ix in range(len(x)):\n",
    "        dFx_dy[:,ix] = slope( np.ravel(Fx[:,ix]), y )\n",
    "\n",
    "    return dFx_dy"
   ]
  },
  {
   "cell_type": "code",
   "execution_count": 21,
   "metadata": {},
   "outputs": [],
   "source": [
    "x = np.arange(tlx + size_x / 2.0, tlx + cols*size_x, size_x)"
   ]
  },
  {
   "cell_type": "code",
   "execution_count": 22,
   "metadata": {},
   "outputs": [],
   "source": [
    "y = np.arange(tly - size_y / 2.0, tly - rows*size_y, -size_y)"
   ]
  },
  {
   "cell_type": "code",
   "execution_count": 23,
   "metadata": {},
   "outputs": [],
   "source": [
    "dFy_dx = grad_indep_dx(x, y, fy)"
   ]
  },
  {
   "cell_type": "code",
   "execution_count": 24,
   "metadata": {},
   "outputs": [
    {
     "data": {
      "text/plain": [
       "array([[-0.1822375 , -0.18373125, -0.18671875, ..., -0.47053125,\n",
       "        -0.47351875, -0.4750125 ],\n",
       "       [-0.1807125 , -0.18219375, -0.18515625, ..., -0.46659375,\n",
       "        -0.46955625, -0.4710375 ],\n",
       "       [-0.1791875 , -0.18065625, -0.18359375, ..., -0.46265625,\n",
       "        -0.46559375, -0.4670625 ],\n",
       "       ...,\n",
       "       [ 0.1181875 ,  0.11915625,  0.12109375, ...,  0.30515625,\n",
       "         0.30709375,  0.3080625 ],\n",
       "       [ 0.1197125 ,  0.12069375,  0.12265625, ...,  0.30909375,\n",
       "         0.31105625,  0.3120375 ],\n",
       "       [ 0.1212375 ,  0.12223125,  0.12421875, ...,  0.31303125,\n",
       "         0.31501875,  0.3160125 ]])"
      ]
     },
     "execution_count": 24,
     "metadata": {},
     "output_type": "execute_result"
    }
   ],
   "source": [
    "dFy_dx"
   ]
  },
  {
   "cell_type": "code",
   "execution_count": 25,
   "metadata": {},
   "outputs": [
    {
     "name": "stdout",
     "output_type": "stream",
     "text": [
      "float64\n"
     ]
    }
   ],
   "source": [
    "gr_fy_x = gradient_x(fy, size_x)\n",
    "print(gr_fy_x.dtype)"
   ]
  },
  {
   "cell_type": "code",
   "execution_count": 26,
   "metadata": {},
   "outputs": [
    {
     "name": "stdout",
     "output_type": "stream",
     "text": [
      "[[-0.1822375  -0.18373125 -0.18671875 ... -0.47053125 -0.47351875\n",
      "  -0.4750125 ]\n",
      " [-0.1807125  -0.18219375 -0.18515625 ... -0.46659375 -0.46955625\n",
      "  -0.4710375 ]\n",
      " [-0.1791875  -0.18065625 -0.18359375 ... -0.46265625 -0.46559375\n",
      "  -0.4670625 ]\n",
      " ...\n",
      " [ 0.1181875   0.11915625  0.12109375 ...  0.30515625  0.30709375\n",
      "   0.3080625 ]\n",
      " [ 0.1197125   0.12069375  0.12265625 ...  0.30909375  0.31105625\n",
      "   0.3120375 ]\n",
      " [ 0.1212375   0.12223125  0.12421875 ...  0.31303125  0.31501875\n",
      "   0.3160125 ]]\n"
     ]
    }
   ],
   "source": [
    "print(gr_fy_x)"
   ]
  },
  {
   "cell_type": "code",
   "execution_count": 27,
   "metadata": {},
   "outputs": [
    {
     "data": {
      "image/png": "[encoded data removed]",
      "text/plain": [
       "<Figure size 432x288 with 1 Axes>"
      ]
     },
     "metadata": {},
     "output_type": "display_data"
    }
   ],
   "source": [
    "plt.hist(100*(gr_fy_x-dFy_dx)/dFy_dx); plt.show()"
   ]
  },
  {
   "cell_type": "code",
   "execution_count": 28,
   "metadata": {},
   "outputs": [],
   "source": [
    "dFx_dy = grad_indep_dy(x, y, fx)"
   ]
  },
  {
   "cell_type": "code",
   "execution_count": 29,
   "metadata": {},
   "outputs": [
    {
     "name": "stdout",
     "output_type": "stream",
     "text": [
      "(200, 100)\n",
      "[[ 4.01599473  4.0823748   4.14875488 ... 10.4548623  10.52124238\n",
      "  10.58762246]\n",
      " [ 3.98238887  4.04821348  4.11403809 ... 10.36737598 10.43320059\n",
      "  10.4990252 ]\n",
      " [ 3.91546074  3.9801791   4.04489746 ... 10.1931416  10.25785996\n",
      "  10.32257832]\n",
      " ...\n",
      " [ 1.70342949  1.73158535  1.75974121 ...  4.43454785  4.46270371\n",
      "   4.49085957]\n",
      " [ 1.74767012  1.77655723  1.80544434 ...  4.54971973  4.57860684\n",
      "   4.60749395]\n",
      " [ 1.76993223  1.7991873   1.82844238 ...  4.6076748   4.63692988\n",
      "   4.66618496]]\n"
     ]
    }
   ],
   "source": [
    "print(dFx_dy.shape);print(dFx_dy)"
   ]
  },
  {
   "cell_type": "code",
   "execution_count": 30,
   "metadata": {},
   "outputs": [
    {
     "name": "stdout",
     "output_type": "stream",
     "text": [
      "[[ -4.04960059  -4.11653613  -4.18347168 ... -10.54234863 -10.60928418\n",
      "  -10.67621973]\n",
      " [ -3.98238887  -4.04821348  -4.11403809 ... -10.36737598 -10.43320059\n",
      "  -10.4990252 ]\n",
      " [ -3.91546074  -3.9801791   -4.04489746 ... -10.1931416  -10.25785996\n",
      "  -10.32257832]\n",
      " ...\n",
      " [ -1.70342949  -1.73158535  -1.75974121 ...  -4.43454785  -4.46270371\n",
      "   -4.49085957]\n",
      " [ -1.74767012  -1.77655723  -1.80544434 ...  -4.54971973  -4.57860684\n",
      "   -4.60749395]\n",
      " [ -1.79219434  -1.82181738  -1.85144043 ...  -4.66562988  -4.69525293\n",
      "   -4.72487598]]\n"
     ]
    }
   ],
   "source": [
    "gr_fx_y = gradient_y(fx, size_y)\n",
    "print(gr_fx_y)"
   ]
  },
  {
   "cell_type": "code",
   "execution_count": 31,
   "metadata": {},
   "outputs": [
    {
     "data": {
      "image/png": "[encoded data removed]",
      "text/plain": [
       "<Figure size 432x288 with 1 Axes>"
      ]
     },
     "metadata": {},
     "output_type": "display_data"
    }
   ],
   "source": [
    "plt.hist(100*(gr_fx_y+dFx_dy)/dFx_dy); plt.show()"
   ]
  },
  {
   "cell_type": "code",
   "execution_count": 36,
   "metadata": {},
   "outputs": [
    {
     "name": "stdout",
     "output_type": "stream",
     "text": [
      "3.962513085937502 -0.1929937500000003 4.155506835937502\n"
     ]
    }
   ],
   "source": [
    "curl_l = dFx_dy - dFy_dx\n",
    "print(dFx_dy[10,10], dFy_dx[10,10], curl_l[10,10])"
   ]
  },
  {
   "cell_type": "code",
   "execution_count": 38,
   "metadata": {},
   "outputs": [
    {
     "name": "stdout",
     "output_type": "stream",
     "text": [
      "-3.962513085937502 -0.1929937500000003 4.155506835937502\n"
     ]
    }
   ],
   "source": [
    "curl_m = -gr_fy_x - gr_fx_y \n",
    "print(gr_fx_y[10,10], gr_fy_x[10,10], curl_m[10,10])"
   ]
  },
  {
   "cell_type": "code",
   "execution_count": 34,
   "metadata": {},
   "outputs": [
    {
     "name": "stdout",
     "output_type": "stream",
     "text": [
      "4.1553966796875\n"
     ]
    }
   ],
   "source": [
    "print(theor_curl_mod[10,10])"
   ]
  },
  {
   "cell_type": "code",
   "execution_count": null,
   "metadata": {},
   "outputs": [],
   "source": []
  },
  {
   "cell_type": "code",
   "execution_count": null,
   "metadata": {},
   "outputs": [],
   "source": []
  },
  {
   "cell_type": "code",
   "execution_count": null,
   "metadata": {},
   "outputs": [],
   "source": []
  }
 ],
 "metadata": {
  "kernelspec": {
   "display_name": "Python 3",
   "language": "python",
   "name": "python3"
  },
  "language_info": {
   "codemirror_mode": {
    "name": "ipython",
    "version": 3
   },
   "file_extension": ".py",
   "mimetype": "text/x-python",
   "name": "python",
   "nbconvert_exporter": "python",
   "pygments_lexer": "ipython3",
   "version": "3.5.2"
  }
 },
 "nbformat": 4,
 "nbformat_minor": 2
}
