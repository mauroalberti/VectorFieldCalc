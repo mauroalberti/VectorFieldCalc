{
 "cells": [
  {
   "cell_type": "markdown",
   "metadata": {},
   "source": [
    "# Divergence, curl module and other field vector field parameters"
   ]
  },
  {
   "cell_type": "markdown",
   "metadata": {},
   "source": [
    "This document present some examples of vector field processing using pygsf methods."
   ]
  },
  {
   "cell_type": "markdown",
   "metadata": {},
   "source": [
    "## Preliminary settings"
   ]
  },
  {
   "cell_type": "markdown",
   "metadata": {},
   "source": [
    "In order to plot fields, we run the following commands:"
   ]
  },
  {
   "cell_type": "code",
   "execution_count": 30,
   "metadata": {},
   "outputs": [],
   "source": [
    "%matplotlib inline\n",
    "import matplotlib.pyplot as plt"
   ]
  },
  {
   "cell_type": "markdown",
   "metadata": {},
   "source": [
    "The modules to import for dealing with grids are:"
   ]
  },
  {
   "cell_type": "code",
   "execution_count": 31,
   "metadata": {},
   "outputs": [],
   "source": [
    "from pygsf.mathematics.arrays import *"
   ]
  },
  {
   "cell_type": "code",
   "execution_count": 32,
   "metadata": {},
   "outputs": [],
   "source": [
    "from pygsf.spatial.rasters.geotransform import *"
   ]
  },
  {
   "cell_type": "code",
   "execution_count": 33,
   "metadata": {},
   "outputs": [],
   "source": [
    "from pygsf.spatial.rasters.mapping import *"
   ]
  },
  {
   "cell_type": "markdown",
   "metadata": {},
   "source": [
    "## Fields and geotransform definitions"
   ]
  },
  {
   "cell_type": "markdown",
   "metadata": {},
   "source": [
    "We calculate a theoretical, 2D vector field and check that the parameters calculated by *pygsf* is equal to the expected one.\n",
    "\n",
    "We use a modified example from p. 67 in [1]."
   ]
  },
  {
   "cell_type": "markdown",
   "metadata": {},
   "source": [
    "\\begin{equation*}\n",
    " \\vec{\\mathbf{v}} = 0.001 x y^3  \\vec{\\mathbf{i}} - 0.002  x^2 y  \\vec{\\mathbf{j}} + 0  \\vec{\\mathbf{k}}\n",
    "\\end{equation*}\n",
    "\n"
   ]
  },
  {
   "cell_type": "markdown",
   "metadata": {},
   "source": [
    "In order to create the two grids that represent the x- and the y-components, we therefore define the following two \"transfer\" functions from coordinates to z values: "
   ]
  },
  {
   "cell_type": "code",
   "execution_count": 34,
   "metadata": {},
   "outputs": [],
   "source": [
    "def z_func_fx(x, y):\n",
    "\n",
    "    return 0.001 * x * y**3\n",
    "\n",
    "def z_func_fy(x, y):\n",
    "\n",
    "    return - 0.002 * x**2 * y"
   ]
  },
  {
   "cell_type": "markdown",
   "metadata": {},
   "source": [
    "The above functions define the value of the cells, using the given x and y geographic coordinates."
   ]
  },
  {
   "cell_type": "markdown",
   "metadata": {},
   "source": [
    "Arrays components are defined in terms of indices *i* and *j*, so to transform array indices to geographical coordinates we use a geotransform. The one chosen is:"
   ]
  },
  {
   "cell_type": "code",
   "execution_count": 35,
   "metadata": {},
   "outputs": [],
   "source": [
    "gt1 = GeoTransform(\n",
    "    inTopLeftX=15, \n",
    "    inTopLeftY=30, \n",
    "    inPixWidth=10, \n",
    "    inPixHeight=10)"
   ]
  },
  {
   "cell_type": "markdown",
   "metadata": {},
   "source": [
    "Note that the chosen geotransform has no axis rotation, as is in the most part of cases with geographic grids."
   ]
  },
  {
   "cell_type": "markdown",
   "metadata": {},
   "source": [
    "Gridded field values are calculated for the theoretical source vector field x- and y- components using the provided number of rows and columns for the grid:"
   ]
  },
  {
   "cell_type": "code",
   "execution_count": 36,
   "metadata": {},
   "outputs": [],
   "source": [
    "rows=50; cols=50"
   ]
  },
  {
   "cell_type": "markdown",
   "metadata": {},
   "source": [
    "### vector field x-component"
   ]
  },
  {
   "cell_type": "code",
   "execution_count": 37,
   "metadata": {},
   "outputs": [],
   "source": [
    "fx = array_from_function(\n",
    "    row_num=rows, \n",
    "    col_num=cols, \n",
    "    geotransform=gt1, \n",
    "    z_transfer_func=z_func_fx)"
   ]
  },
  {
   "cell_type": "code",
   "execution_count": 38,
   "metadata": {},
   "outputs": [
    {
     "name": "stdout",
     "output_type": "stream",
     "text": [
      "[[ 3.12500000e+02  4.68750000e+02  6.25000000e+02 ...  7.65625000e+03\n",
      "   7.81250000e+03  7.96875000e+03]\n",
      " [ 6.75000000e+01  1.01250000e+02  1.35000000e+02 ...  1.65375000e+03\n",
      "   1.68750000e+03  1.72125000e+03]\n",
      " [ 2.50000000e+00  3.75000000e+00  5.00000000e+00 ...  6.12500000e+01\n",
      "   6.25000000e+01  6.37500000e+01]\n",
      " ...\n",
      " [-1.76242250e+06 -2.64363375e+06 -3.52484500e+06 ... -4.31793512e+07\n",
      "  -4.40605625e+07 -4.49417738e+07]\n",
      " [-1.88392750e+06 -2.82589125e+06 -3.76785500e+06 ... -4.61562238e+07\n",
      "  -4.70981875e+07 -4.80401512e+07]\n",
      " [-2.01089250e+06 -3.01633875e+06 -4.02178500e+06 ... -4.92668662e+07\n",
      "  -5.02723125e+07 -5.12777588e+07]]\n"
     ]
    }
   ],
   "source": [
    "print(fx)"
   ]
  },
  {
   "cell_type": "code",
   "execution_count": 39,
   "metadata": {},
   "outputs": [
    {
     "data": {
      "text/plain": [
       "<matplotlib.colorbar.Colorbar at 0x7f5164b17b00>"
      ]
     },
     "execution_count": 39,
     "metadata": {},
     "output_type": "execute_result"
    },
    {
     "data": {
      "image/png": "[encoded data removed]",
      "text/plain": [
       "<Figure size 432x288 with 2 Axes>"
      ]
     },
     "metadata": {},
     "output_type": "display_data"
    }
   ],
   "source": [
    "plt.imshow(fx); plt.colorbar()"
   ]
  },
  {
   "cell_type": "markdown",
   "metadata": {},
   "source": [
    "### vector field y-component"
   ]
  },
  {
   "cell_type": "code",
   "execution_count": 40,
   "metadata": {},
   "outputs": [],
   "source": [
    "fy = array_from_function(\n",
    "    row_num=rows, \n",
    "    col_num=cols, \n",
    "    geotransform=gt1, \n",
    "    z_transfer_func=z_func_fy)"
   ]
  },
  {
   "cell_type": "code",
   "execution_count": 41,
   "metadata": {},
   "outputs": [
    {
     "name": "stdout",
     "output_type": "stream",
     "text": [
      "[[-2.00000e+01 -4.50000e+01 -8.00000e+01 ... -1.20050e+04 -1.25000e+04\n",
      "  -1.30050e+04]\n",
      " [-1.20000e+01 -2.70000e+01 -4.80000e+01 ... -7.20300e+03 -7.50000e+03\n",
      "  -7.80300e+03]\n",
      " [-4.00000e+00 -9.00000e+00 -1.60000e+01 ... -2.40100e+03 -2.50000e+03\n",
      "  -2.60100e+03]\n",
      " ...\n",
      " [ 3.56000e+02  8.01000e+02  1.42400e+03 ...  2.13689e+05  2.22500e+05\n",
      "   2.31489e+05]\n",
      " [ 3.64000e+02  8.19000e+02  1.45600e+03 ...  2.18491e+05  2.27500e+05\n",
      "   2.36691e+05]\n",
      " [ 3.72000e+02  8.37000e+02  1.48800e+03 ...  2.23293e+05  2.32500e+05\n",
      "   2.41893e+05]]\n"
     ]
    }
   ],
   "source": [
    "print(fy)"
   ]
  },
  {
   "cell_type": "code",
   "execution_count": 42,
   "metadata": {},
   "outputs": [
    {
     "data": {
      "text/plain": [
       "<matplotlib.colorbar.Colorbar at 0x7f5164ae8b00>"
      ]
     },
     "execution_count": 42,
     "metadata": {},
     "output_type": "execute_result"
    },
    {
     "data": {
      "image/png": "[encoded data removed]",
      "text/plain": [
       "<Figure size 432x288 with 2 Axes>"
      ]
     },
     "metadata": {},
     "output_type": "display_data"
    }
   ],
   "source": [
    "plt.imshow(fy); plt.colorbar()"
   ]
  },
  {
   "cell_type": "markdown",
   "metadata": {},
   "source": [
    "## Testing divergence"
   ]
  },
  {
   "cell_type": "markdown",
   "metadata": {},
   "source": [
    "The definition of divergence for our 2D case is:"
   ]
  },
  {
   "cell_type": "markdown",
   "metadata": {},
   "source": [
    "\\begin{align}\n",
    "divergence = \\nabla \\cdot \\vec{\\mathbf{v}} & = \\frac{\\partial{v_x}}{\\partial x} + \\frac{\\partial{v_y}}{\\partial y}\n",
    "\\end{align}"
   ]
  },
  {
   "cell_type": "markdown",
   "metadata": {},
   "source": [
    "### theoretical divergence"
   ]
  },
  {
   "cell_type": "markdown",
   "metadata": {},
   "source": [
    "Since the vector field formula is:"
   ]
  },
  {
   "cell_type": "markdown",
   "metadata": {},
   "source": [
    "\\begin{equation*}\n",
    " \\vec{\\mathbf{v}} = 0.001 x y^3  \\vec{\\mathbf{i}} - 0.002  x^2 y  \\vec{\\mathbf{j}} + 0  \\vec{\\mathbf{k}}\n",
    "\\end{equation*}"
   ]
  },
  {
   "cell_type": "markdown",
   "metadata": {},
   "source": [
    "the theoretical divergence transfer function is:"
   ]
  },
  {
   "cell_type": "code",
   "execution_count": 43,
   "metadata": {},
   "outputs": [],
   "source": [
    "def z_func_div(x, y):\n",
    "    \n",
    "    return 0.001 * y**3 - 0.002 * x**2"
   ]
  },
  {
   "cell_type": "markdown",
   "metadata": {},
   "source": [
    "The theoretical divergence field can be created using the function expressing the analytical derivatives *z_func_div*:"
   ]
  },
  {
   "cell_type": "code",
   "execution_count": 44,
   "metadata": {},
   "outputs": [],
   "source": [
    "f_div = array_from_function(\n",
    "    row_num=rows, \n",
    "    col_num=cols, \n",
    "    geotransform=gt1, \n",
    "    z_transfer_func=z_func_div)"
   ]
  },
  {
   "cell_type": "code",
   "execution_count": 45,
   "metadata": {},
   "outputs": [
    {
     "name": "stdout",
     "output_type": "stream",
     "text": [
      "[[ 1.48250000e+01  1.38250000e+01  1.24250000e+01 ... -4.64575000e+02\n",
      "  -4.84375000e+02 -5.04575000e+02]\n",
      " [ 2.57500000e+00  1.57500000e+00  1.75000000e-01 ... -4.76825000e+02\n",
      "  -4.96625000e+02 -5.16825000e+02]\n",
      " [-6.75000000e-01 -1.67500000e+00 -3.07500000e+00 ... -4.80075000e+02\n",
      "  -4.99875000e+02 -5.20075000e+02]\n",
      " ...\n",
      " [-8.81219250e+04 -8.81229250e+04 -8.81243250e+04 ... -8.86013250e+04\n",
      "  -8.86211250e+04 -8.86413250e+04]\n",
      " [-9.41971750e+04 -9.41981750e+04 -9.41995750e+04 ... -9.46765750e+04\n",
      "  -9.46963750e+04 -9.47165750e+04]\n",
      " [-1.00545425e+05 -1.00546425e+05 -1.00547825e+05 ... -1.01024825e+05\n",
      "  -1.01044625e+05 -1.01064825e+05]]\n"
     ]
    }
   ],
   "source": [
    "print(f_div)"
   ]
  },
  {
   "cell_type": "code",
   "execution_count": 46,
   "metadata": {},
   "outputs": [
    {
     "data": {
      "text/plain": [
       "<matplotlib.colorbar.Colorbar at 0x7f5164abab38>"
      ]
     },
     "execution_count": 46,
     "metadata": {},
     "output_type": "execute_result"
    },
    {
     "data": {
      "image/png": "[encoded data removed]",
      "text/plain": [
       "<Figure size 432x288 with 2 Axes>"
      ]
     },
     "metadata": {},
     "output_type": "display_data"
    }
   ],
   "source": [
    "plt.imshow(f_div); plt.colorbar()"
   ]
  },
  {
   "cell_type": "markdown",
   "metadata": {},
   "source": [
    "### pygsf-estimated divergence"
   ]
  },
  {
   "cell_type": "markdown",
   "metadata": {},
   "source": [
    "Divergence as resulting from pygsf calculation:"
   ]
  },
  {
   "cell_type": "code",
   "execution_count": 47,
   "metadata": {},
   "outputs": [],
   "source": [
    "div = divergence_2D(\n",
    "    fld_x=fx, \n",
    "    fld_y=fy, \n",
    "    cell_size_x=10, \n",
    "    cell_size_y=10)"
   ]
  },
  {
   "cell_type": "code",
   "execution_count": 48,
   "metadata": {},
   "outputs": [
    {
     "name": "stdout",
     "output_type": "stream",
     "text": [
      "[[ 1.48250000e+01  1.38250000e+01  1.24250000e+01 ... -4.64575000e+02\n",
      "  -4.84375000e+02 -5.04575000e+02]\n",
      " [ 2.57500000e+00  1.57500000e+00  1.75000000e-01 ... -4.76825000e+02\n",
      "  -4.96625000e+02 -5.16825000e+02]\n",
      " [-6.75000000e-01 -1.67500000e+00 -3.07500000e+00 ... -4.80075000e+02\n",
      "  -4.99875000e+02 -5.20075000e+02]\n",
      " ...\n",
      " [-8.81219250e+04 -8.81229250e+04 -8.81243250e+04 ... -8.86013250e+04\n",
      "  -8.86211250e+04 -8.86413250e+04]\n",
      " [-9.41971750e+04 -9.41981750e+04 -9.41995750e+04 ... -9.46765750e+04\n",
      "  -9.46963750e+04 -9.47165750e+04]\n",
      " [-1.00545425e+05 -1.00546425e+05 -1.00547825e+05 ... -1.01024825e+05\n",
      "  -1.01044625e+05 -1.01064825e+05]]\n"
     ]
    }
   ],
   "source": [
    "print(div)"
   ]
  },
  {
   "cell_type": "code",
   "execution_count": 49,
   "metadata": {},
   "outputs": [
    {
     "data": {
      "text/plain": [
       "<matplotlib.colorbar.Colorbar at 0x7f5164a8ee10>"
      ]
     },
     "execution_count": 49,
     "metadata": {},
     "output_type": "execute_result"
    },
    {
     "data": {
      "image/png": "[encoded data removed]",
      "text/plain": [
       "<Figure size 432x288 with 2 Axes>"
      ]
     },
     "metadata": {},
     "output_type": "display_data"
    }
   ],
   "source": [
    "plt.imshow(div); plt.colorbar()"
   ]
  },
  {
   "cell_type": "markdown",
   "metadata": {},
   "source": [
    "We check whether the theoretical and the estimated divergence fields are close:"
   ]
  },
  {
   "cell_type": "code",
   "execution_count": 50,
   "metadata": {},
   "outputs": [
    {
     "data": {
      "text/plain": [
       "True"
      ]
     },
     "execution_count": 50,
     "metadata": {},
     "output_type": "execute_result"
    }
   ],
   "source": [
    "np.allclose(f_div, div)"
   ]
  },
  {
   "cell_type": "markdown",
   "metadata": {},
   "source": [
    "## Testing curl module"
   ]
  },
  {
   "cell_type": "markdown",
   "metadata": {},
   "source": [
    "The definition of curl module in our 2D case is:"
   ]
  },
  {
   "cell_type": "markdown",
   "metadata": {},
   "source": [
    "\\begin{equation*}\n",
    "\\nabla \\times \\vec{\\mathbf{v}} =  \\begin{vmatrix}\n",
    "\\mathbf{i} & \\mathbf{j} & \\mathbf{k} \\\\\n",
    "\\frac{\\partial }{\\partial x} &  \\frac{\\partial }{\\partial y} & \\frac{\\partial }{\\partial z} \\\\\n",
    "{v_x} &  {v_y} & 0\n",
    "\\end{vmatrix}\n",
    "\\end{equation*}"
   ]
  },
  {
   "cell_type": "markdown",
   "metadata": {},
   "source": [
    "so that the module of the curl is:"
   ]
  },
  {
   "cell_type": "markdown",
   "metadata": {},
   "source": [
    "\\begin{equation*}\n",
    " |curl| = \\frac{\\partial v_y}{\\partial x} - \\frac{\\partial v_x}{\\partial y}\n",
    "\\end{equation*}"
   ]
  },
  {
   "cell_type": "markdown",
   "metadata": {},
   "source": [
    "### theoretical curl module"
   ]
  },
  {
   "cell_type": "markdown",
   "metadata": {},
   "source": [
    "The vector function is:"
   ]
  },
  {
   "cell_type": "markdown",
   "metadata": {},
   "source": [
    "\\begin{equation*}\n",
    " \\vec{\\mathbf{v}} = 0.001 x y^3  \\vec{\\mathbf{i}} - 0.002  x^2 y  \\vec{\\mathbf{j}} + 0  \\vec{\\mathbf{k}}\n",
    "\\end{equation*}"
   ]
  },
  {
   "cell_type": "markdown",
   "metadata": {},
   "source": [
    "there the theoretical curl module is:"
   ]
  },
  {
   "cell_type": "markdown",
   "metadata": {},
   "source": [
    "\\begin{equation*}\n",
    " |curl| = abs(0.004 x y + 0.003 x y^2)\n",
    "\\end{equation*}"
   ]
  },
  {
   "cell_type": "markdown",
   "metadata": {},
   "source": [
    "so that the theoretical transfer function is:"
   ]
  },
  {
   "cell_type": "code",
   "execution_count": 51,
   "metadata": {},
   "outputs": [],
   "source": [
    "def z_func_curl_mod(x, y):\n",
    "    \n",
    "    return abs(0.004 * x * y + 0.003 * x * y**2)"
   ]
  },
  {
   "cell_type": "markdown",
   "metadata": {},
   "source": [
    "The theoretical divergence field can be created using the function expressing the analytical derivatives *z_func_div*:"
   ]
  },
  {
   "cell_type": "code",
   "execution_count": 52,
   "metadata": {},
   "outputs": [],
   "source": [
    "f_curl_mod = array_from_function(\n",
    "    row_num=rows, \n",
    "    col_num=cols, \n",
    "    geotransform=gt1, \n",
    "    z_transfer_func=z_func_curl_mod)"
   ]
  },
  {
   "cell_type": "code",
   "execution_count": 53,
   "metadata": {},
   "outputs": [
    {
     "name": "stdout",
     "output_type": "stream",
     "text": [
      "[[3.9500000e+01 5.9250000e+01 7.9000000e+01 ... 9.6775000e+02\n",
      "  9.8750000e+02 1.0072500e+03]\n",
      " [1.4700000e+01 2.2050000e+01 2.9400000e+01 ... 3.6015000e+02\n",
      "  3.6750000e+02 3.7485000e+02]\n",
      " [1.9000000e+00 2.8500000e+00 3.8000000e+00 ... 4.6550000e+01\n",
      "  4.7500000e+01 4.8450000e+01]\n",
      " ...\n",
      " [1.1845900e+04 1.7768850e+04 2.3691800e+04 ... 2.9022455e+05\n",
      "  2.9614750e+05 3.0207045e+05]\n",
      " [1.2385100e+04 1.8577650e+04 2.4770200e+04 ... 3.0343495e+05\n",
      "  3.0962750e+05 3.1582005e+05]\n",
      " [1.2936300e+04 1.9404450e+04 2.5872600e+04 ... 3.1693935e+05\n",
      "  3.2340750e+05 3.2987565e+05]]\n"
     ]
    }
   ],
   "source": [
    "print(f_curl_mod)"
   ]
  },
  {
   "cell_type": "code",
   "execution_count": 54,
   "metadata": {},
   "outputs": [
    {
     "data": {
      "text/plain": [
       "<matplotlib.colorbar.Colorbar at 0x7f51649e7320>"
      ]
     },
     "execution_count": 54,
     "metadata": {},
     "output_type": "execute_result"
    },
    {
     "data": {
      "image/png": "[encoded data removed]",
      "text/plain": [
       "<Figure size 432x288 with 2 Axes>"
      ]
     },
     "metadata": {},
     "output_type": "display_data"
    }
   ],
   "source": [
    "plt.imshow(f_curl_mod); plt.colorbar()"
   ]
  },
  {
   "cell_type": "markdown",
   "metadata": {},
   "source": [
    "### pygsf-estimated module of curl"
   ]
  },
  {
   "cell_type": "markdown",
   "metadata": {},
   "source": [
    "The module of curl as resulting from pygsf calculation is:"
   ]
  },
  {
   "cell_type": "code",
   "execution_count": 55,
   "metadata": {},
   "outputs": [],
   "source": [
    "curl_module = curl_mod(\n",
    "    fld_x=fx, \n",
    "    fld_y=fy, \n",
    "    cell_size_x=10, \n",
    "    cell_size_y=10)"
   ]
  },
  {
   "cell_type": "code",
   "execution_count": 56,
   "metadata": {},
   "outputs": [
    {
     "name": "stdout",
     "output_type": "stream",
     "text": [
      "[[3.1500000e+01 4.7250000e+01 6.3000000e+01 ... 7.7175000e+02\n",
      "  7.8750000e+02 8.0325000e+02]\n",
      " [1.4300000e+01 2.1450000e+01 2.8600000e+01 ... 3.5035000e+02\n",
      "  3.5750000e+02 3.6465000e+02]\n",
      " [3.1000000e+00 4.6500000e+00 6.2000000e+00 ... 7.5950000e+01\n",
      "  7.7500000e+01 7.9050000e+01]\n",
      " ...\n",
      " [1.1919100e+04 1.7878650e+04 2.3838200e+04 ... 2.9201795e+05\n",
      "  2.9797750e+05 3.0393705e+05]\n",
      " [1.2459900e+04 1.8689850e+04 2.4919800e+04 ... 3.0526755e+05\n",
      "  3.1149750e+05 3.1772745e+05]\n",
      " [1.3006700e+04 1.9510050e+04 2.6013400e+04 ... 3.1866415e+05\n",
      "  3.2516750e+05 3.3167085e+05]]\n"
     ]
    }
   ],
   "source": [
    "print(curl_module)"
   ]
  },
  {
   "cell_type": "code",
   "execution_count": 57,
   "metadata": {},
   "outputs": [
    {
     "data": {
      "text/plain": [
       "<matplotlib.colorbar.Colorbar at 0x7f51649b6748>"
      ]
     },
     "execution_count": 57,
     "metadata": {},
     "output_type": "execute_result"
    },
    {
     "data": {
      "image/png": "[encoded data removed]",
      "text/plain": [
       "<Figure size 432x288 with 2 Axes>"
      ]
     },
     "metadata": {},
     "output_type": "display_data"
    }
   ],
   "source": [
    "plt.imshow(curl_module); plt.colorbar()"
   ]
  },
  {
   "cell_type": "markdown",
   "metadata": {},
   "source": [
    "We check whether the theoretical and the estimated curl module fields are close:"
   ]
  },
  {
   "cell_type": "code",
   "execution_count": 59,
   "metadata": {},
   "outputs": [
    {
     "data": {
      "text/plain": [
       "False"
      ]
     },
     "execution_count": 59,
     "metadata": {},
     "output_type": "execute_result"
    }
   ],
   "source": [
    "np.allclose(f_curl_mod, curl_module)"
   ]
  },
  {
   "cell_type": "code",
   "execution_count": 60,
   "metadata": {},
   "outputs": [
    {
     "data": {
      "text/plain": [
       "<matplotlib.colorbar.Colorbar at 0x7f5164986748>"
      ]
     },
     "execution_count": 60,
     "metadata": {},
     "output_type": "execute_result"
    },
    {
     "data": {
      "image/png": "[encoded data removed]",
      "text/plain": [
       "<Figure size 432x288 with 2 Axes>"
      ]
     },
     "metadata": {},
     "output_type": "display_data"
    }
   ],
   "source": [
    "diffs = curl_module - f_curl_mod\n",
    "plt.imshow(diffs); plt.colorbar()"
   ]
  },
  {
   "cell_type": "markdown",
   "metadata": {},
   "source": [
    "### References"
   ]
  },
  {
   "cell_type": "markdown",
   "metadata": {},
   "source": [
    "[1] M. R. Spiegel, 1975. Analisi Vettoriale. Etas Libri, pp. 224."
   ]
  }
 ],
 "metadata": {
  "kernelspec": {
   "display_name": "Python 3",
   "language": "python",
   "name": "python3"
  },
  "language_info": {
   "codemirror_mode": {
    "name": "ipython",
    "version": 3
   },
   "file_extension": ".py",
   "mimetype": "text/x-python",
   "name": "python",
   "nbconvert_exporter": "python",
   "pygments_lexer": "ipython3",
   "version": "3.5.2"
  }
 },
 "nbformat": 4,
 "nbformat_minor": 2
}
