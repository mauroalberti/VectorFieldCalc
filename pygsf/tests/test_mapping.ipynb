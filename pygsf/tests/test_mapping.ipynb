{
 "cells": [
  {
   "cell_type": "code",
   "execution_count": 30,
   "metadata": {},
   "outputs": [],
   "source": [
    "from pygsf.spatial.rasters.geotransform import *"
   ]
  },
  {
   "cell_type": "code",
   "execution_count": 31,
   "metadata": {},
   "outputs": [],
   "source": [
    "from pygsf.spatial.rasters.mapping import *"
   ]
  },
  {
   "cell_type": "code",
   "execution_count": 32,
   "metadata": {},
   "outputs": [],
   "source": [
    "gt1 = GeoTransform(1500, 3000, 10, 10)"
   ]
  },
  {
   "cell_type": "code",
   "execution_count": 33,
   "metadata": {},
   "outputs": [],
   "source": [
    "# examples from:\n",
    "# https://www.khanacademy.org/math/multivariable-calculus/multivariable-derivatives/divergence-and-curl-articles/a/divergence\n",
    "\n",
    "def z_func_fx(x, y):\n",
    "\n",
    "    return 2*x - y\n",
    "\n",
    "def z_func_fy(x, y):\n",
    "\n",
    "    return y * y"
   ]
  },
  {
   "cell_type": "code",
   "execution_count": 34,
   "metadata": {},
   "outputs": [
    {
     "data": {
      "text/plain": [
       "(1505.0, 2995.0)"
      ]
     },
     "execution_count": 34,
     "metadata": {},
     "output_type": "execute_result"
    }
   ],
   "source": [
    "pixToGeogr(gt1, i=0.5, j=0.5)"
   ]
  },
  {
   "cell_type": "code",
   "execution_count": 35,
   "metadata": {},
   "outputs": [],
   "source": [
    "z_x = ij_transfer_func(i=0, j=0, geotransform=gt1, z_transfer_func=z_func_fx)"
   ]
  },
  {
   "cell_type": "code",
   "execution_count": 36,
   "metadata": {},
   "outputs": [
    {
     "name": "stdout",
     "output_type": "stream",
     "text": [
      "15.0\n"
     ]
    }
   ],
   "source": [
    "print(z_x)"
   ]
  },
  {
   "cell_type": "code",
   "execution_count": 37,
   "metadata": {},
   "outputs": [],
   "source": [
    "z_y = ij_transfer_func(i=0, j=0, geotransform=gt1, z_transfer_func=z_func_fy)"
   ]
  },
  {
   "cell_type": "code",
   "execution_count": 38,
   "metadata": {},
   "outputs": [
    {
     "name": "stdout",
     "output_type": "stream",
     "text": [
      "8970025.0\n"
     ]
    }
   ],
   "source": [
    "print(z_y)"
   ]
  },
  {
   "cell_type": "markdown",
   "metadata": {},
   "source": [
    "## Array creation"
   ]
  },
  {
   "cell_type": "code",
   "execution_count": 39,
   "metadata": {},
   "outputs": [],
   "source": [
    "fx = array_from_function(row_num=50, col_num=50, geotransform=gt1, z_transfer_func=z_func_fx)"
   ]
  },
  {
   "cell_type": "code",
   "execution_count": 40,
   "metadata": {},
   "outputs": [
    {
     "name": "stdout",
     "output_type": "stream",
     "text": [
      "[[  15.   25.   35. ...  485.  495.  505.]\n",
      " [  35.   45.   55. ...  505.  515.  525.]\n",
      " [  55.   65.   75. ...  525.  535.  545.]\n",
      " ...\n",
      " [ 955.  965.  975. ... 1425. 1435. 1445.]\n",
      " [ 975.  985.  995. ... 1445. 1455. 1465.]\n",
      " [ 995. 1005. 1015. ... 1465. 1475. 1485.]]\n"
     ]
    }
   ],
   "source": [
    "print(fx)"
   ]
  },
  {
   "cell_type": "code",
   "execution_count": 41,
   "metadata": {},
   "outputs": [],
   "source": [
    "fy = array_from_function(row_num=50, col_num=50, geotransform=gt1, z_transfer_func=z_func_fy)"
   ]
  },
  {
   "cell_type": "code",
   "execution_count": 42,
   "metadata": {},
   "outputs": [
    {
     "name": "stdout",
     "output_type": "stream",
     "text": [
      "[[8970025. 8910225. 8850625. ... 6375625. 6325225. 6275025.]\n",
      " [8970025. 8910225. 8850625. ... 6375625. 6325225. 6275025.]\n",
      " [8970025. 8910225. 8850625. ... 6375625. 6325225. 6275025.]\n",
      " ...\n",
      " [8970025. 8910225. 8850625. ... 6375625. 6325225. 6275025.]\n",
      " [8970025. 8910225. 8850625. ... 6375625. 6325225. 6275025.]\n",
      " [8970025. 8910225. 8850625. ... 6375625. 6325225. 6275025.]]\n"
     ]
    }
   ],
   "source": [
    "print(fy)"
   ]
  }
 ],
 "metadata": {
  "kernelspec": {
   "display_name": "Python 3",
   "language": "python",
   "name": "python3"
  },
  "language_info": {
   "codemirror_mode": {
    "name": "ipython",
    "version": 3
   },
   "file_extension": ".py",
   "mimetype": "text/x-python",
   "name": "python",
   "nbconvert_exporter": "python",
   "pygments_lexer": "ipython3",
   "version": "3.5.2"
  }
 },
 "nbformat": 4,
 "nbformat_minor": 2
}
