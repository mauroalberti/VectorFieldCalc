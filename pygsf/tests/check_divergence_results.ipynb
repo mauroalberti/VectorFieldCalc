{
 "cells": [
  {
   "cell_type": "markdown",
   "metadata": {},
   "source": [
    "# Divergence calculation check"
   ]
  },
  {
   "cell_type": "markdown",
   "metadata": {},
   "source": [
    "Theoretical example based on:\n",
    "\n",
    "https://www.khanacademy.org/math/multivariable-calculus/multivariable-derivatives/divergence-and-curl-articles/a/divergence\n"
   ]
  },
  {
   "cell_type": "markdown",
   "metadata": {},
   "source": [
    "## Required imports"
   ]
  },
  {
   "cell_type": "code",
   "execution_count": 1,
   "metadata": {},
   "outputs": [],
   "source": [
    "from pygsf.mathematics.arrays import divergence_2D"
   ]
  },
  {
   "cell_type": "code",
   "execution_count": 2,
   "metadata": {},
   "outputs": [],
   "source": [
    "from pygsf.spatial.rasters.geotransform import *"
   ]
  },
  {
   "cell_type": "code",
   "execution_count": 3,
   "metadata": {},
   "outputs": [],
   "source": [
    "from pygsf.spatial.rasters.mapping import *"
   ]
  },
  {
   "cell_type": "markdown",
   "metadata": {},
   "source": [
    "## Geotransform"
   ]
  },
  {
   "cell_type": "markdown",
   "metadata": {},
   "source": [
    "The geotransform defines the raster-to-geographic coordinates mapping."
   ]
  },
  {
   "cell_type": "code",
   "execution_count": 4,
   "metadata": {},
   "outputs": [],
   "source": [
    "gt1 = GeoTransform(1500, 3000, 10, 10)"
   ]
  },
  {
   "cell_type": "markdown",
   "metadata": {},
   "source": [
    "## Z transfer functions"
   ]
  },
  {
   "cell_type": "markdown",
   "metadata": {},
   "source": [
    "These functions define the value of the cells, from the provided x and y geographic coordinates."
   ]
  },
  {
   "cell_type": "code",
   "execution_count": 5,
   "metadata": {},
   "outputs": [],
   "source": [
    "def z_func_fx(x, y):\n",
    "\n",
    "    return 2*x - y\n",
    "\n",
    "def z_func_fy(x, y):\n",
    "\n",
    "    return y * y\n",
    "\n",
    "def z_func_div(x, y):\n",
    "    \n",
    "    return 2 + 2*y"
   ]
  },
  {
   "cell_type": "markdown",
   "metadata": {},
   "source": [
    "## Z fields (x and y components)"
   ]
  },
  {
   "cell_type": "markdown",
   "metadata": {},
   "source": [
    "The gridded field values are calculated for the vector field x- and y- components, as well as the expected teorethical divergence field. "
   ]
  },
  {
   "cell_type": "markdown",
   "metadata": {},
   "source": [
    "### Vector field x-component"
   ]
  },
  {
   "cell_type": "code",
   "execution_count": 6,
   "metadata": {},
   "outputs": [],
   "source": [
    "fx = array_from_function(row_num=10, col_num=5, geotransform=gt1, z_transfer_func=z_func_fx)"
   ]
  },
  {
   "cell_type": "code",
   "execution_count": 7,
   "metadata": {},
   "outputs": [
    {
     "name": "stdout",
     "output_type": "stream",
     "text": [
      "[[ 15.  35.  55.  75.  95.]\n",
      " [ 25.  45.  65.  85. 105.]\n",
      " [ 35.  55.  75.  95. 115.]\n",
      " [ 45.  65.  85. 105. 125.]\n",
      " [ 55.  75.  95. 115. 135.]\n",
      " [ 65.  85. 105. 125. 145.]\n",
      " [ 75.  95. 115. 135. 155.]\n",
      " [ 85. 105. 125. 145. 165.]\n",
      " [ 95. 115. 135. 155. 175.]\n",
      " [105. 125. 145. 165. 185.]]\n"
     ]
    }
   ],
   "source": [
    "print(fx)"
   ]
  },
  {
   "cell_type": "markdown",
   "metadata": {},
   "source": [
    "### Vector field y-component"
   ]
  },
  {
   "cell_type": "code",
   "execution_count": 8,
   "metadata": {},
   "outputs": [],
   "source": [
    "fy = array_from_function(row_num=10, col_num=5, geotransform=gt1, z_transfer_func=z_func_fy)"
   ]
  },
  {
   "cell_type": "code",
   "execution_count": 9,
   "metadata": {},
   "outputs": [
    {
     "name": "stdout",
     "output_type": "stream",
     "text": [
      "[[8970025. 8970025. 8970025. 8970025. 8970025.]\n",
      " [8910225. 8910225. 8910225. 8910225. 8910225.]\n",
      " [8850625. 8850625. 8850625. 8850625. 8850625.]\n",
      " [8791225. 8791225. 8791225. 8791225. 8791225.]\n",
      " [8732025. 8732025. 8732025. 8732025. 8732025.]\n",
      " [8673025. 8673025. 8673025. 8673025. 8673025.]\n",
      " [8614225. 8614225. 8614225. 8614225. 8614225.]\n",
      " [8555625. 8555625. 8555625. 8555625. 8555625.]\n",
      " [8497225. 8497225. 8497225. 8497225. 8497225.]\n",
      " [8439025. 8439025. 8439025. 8439025. 8439025.]]\n"
     ]
    }
   ],
   "source": [
    "print(fy)"
   ]
  },
  {
   "cell_type": "markdown",
   "metadata": {},
   "source": [
    "### Theoretical divergence"
   ]
  },
  {
   "cell_type": "code",
   "execution_count": 10,
   "metadata": {},
   "outputs": [],
   "source": [
    "f_div = array_from_function(row_num=10, col_num=5, geotransform=gt1, z_transfer_func=z_func_div)"
   ]
  },
  {
   "cell_type": "code",
   "execution_count": 11,
   "metadata": {},
   "outputs": [
    {
     "name": "stdout",
     "output_type": "stream",
     "text": [
      "[[5992. 5992. 5992. 5992. 5992.]\n",
      " [5972. 5972. 5972. 5972. 5972.]\n",
      " [5952. 5952. 5952. 5952. 5952.]\n",
      " [5932. 5932. 5932. 5932. 5932.]\n",
      " [5912. 5912. 5912. 5912. 5912.]\n",
      " [5892. 5892. 5892. 5892. 5892.]\n",
      " [5872. 5872. 5872. 5872. 5872.]\n",
      " [5852. 5852. 5852. 5852. 5852.]\n",
      " [5832. 5832. 5832. 5832. 5832.]\n",
      " [5812. 5812. 5812. 5812. 5812.]]\n"
     ]
    }
   ],
   "source": [
    "print(f_div)"
   ]
  },
  {
   "cell_type": "markdown",
   "metadata": {},
   "source": [
    "## Divergence result and check"
   ]
  },
  {
   "cell_type": "markdown",
   "metadata": {},
   "source": [
    "Divergence as resulting from pygsf calculation:"
   ]
  },
  {
   "cell_type": "code",
   "execution_count": 12,
   "metadata": {},
   "outputs": [],
   "source": [
    "div = divergence_2D(fx, fy, 10, 10)"
   ]
  },
  {
   "cell_type": "code",
   "execution_count": 13,
   "metadata": {},
   "outputs": [
    {
     "name": "stdout",
     "output_type": "stream",
     "text": [
      "[[5992. 5992. 5992. 5992. 5992.]\n",
      " [5972. 5972. 5972. 5972. 5972.]\n",
      " [5952. 5952. 5952. 5952. 5952.]\n",
      " [5932. 5932. 5932. 5932. 5932.]\n",
      " [5912. 5912. 5912. 5912. 5912.]\n",
      " [5892. 5892. 5892. 5892. 5892.]\n",
      " [5872. 5872. 5872. 5872. 5872.]\n",
      " [5852. 5852. 5852. 5852. 5852.]\n",
      " [5832. 5832. 5832. 5832. 5832.]\n",
      " [5812. 5812. 5812. 5812. 5812.]]\n"
     ]
    }
   ],
   "source": [
    "print(div)"
   ]
  }
 ],
 "metadata": {
  "kernelspec": {
   "display_name": "Python 3",
   "language": "python",
   "name": "python3"
  },
  "language_info": {
   "codemirror_mode": {
    "name": "ipython",
    "version": 3
   },
   "file_extension": ".py",
   "mimetype": "text/x-python",
   "name": "python",
   "nbconvert_exporter": "python",
   "pygments_lexer": "ipython3",
   "version": "3.5.2"
  }
 },
 "nbformat": 4,
 "nbformat_minor": 2
}
