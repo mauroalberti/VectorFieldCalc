{
 "cells": [
  {
   "cell_type": "markdown",
   "metadata": {},
   "source": [
    "# Divergence result check"
   ]
  },
  {
   "cell_type": "markdown",
   "metadata": {},
   "source": [
    "Theoretical example based on:\n",
    "\n",
    "https://www.khanacademy.org/math/multivariable-calculus/multivariable-derivatives/divergence-and-curl-articles/a/divergence\n"
   ]
  },
  {
   "cell_type": "markdown",
   "metadata": {},
   "source": [
    "## Required imports"
   ]
  },
  {
   "cell_type": "code",
   "execution_count": 21,
   "metadata": {},
   "outputs": [],
   "source": [
    "from pygsf.mathematics.arrays import divergence_2D"
   ]
  },
  {
   "cell_type": "code",
   "execution_count": 22,
   "metadata": {},
   "outputs": [],
   "source": [
    "from pygsf.spatial.rasters.geotransform import *"
   ]
  },
  {
   "cell_type": "code",
   "execution_count": 23,
   "metadata": {},
   "outputs": [],
   "source": [
    "from pygsf.spatial.rasters.mapping import *"
   ]
  },
  {
   "cell_type": "markdown",
   "metadata": {},
   "source": [
    "## Geotransform"
   ]
  },
  {
   "cell_type": "markdown",
   "metadata": {},
   "source": [
    "The geotransform defines the raster-to-geographic coordinates mapping."
   ]
  },
  {
   "cell_type": "code",
   "execution_count": 24,
   "metadata": {},
   "outputs": [],
   "source": [
    "gt1 = GeoTransform(1500, 3000, 10, 10)"
   ]
  },
  {
   "cell_type": "markdown",
   "metadata": {},
   "source": [
    "## Z transfer functions"
   ]
  },
  {
   "cell_type": "markdown",
   "metadata": {},
   "source": [
    "These functions define the value of the cells, from the provided x and y geographic coordinates."
   ]
  },
  {
   "cell_type": "code",
   "execution_count": 25,
   "metadata": {},
   "outputs": [],
   "source": [
    "def z_func_fx(x, y):\n",
    "\n",
    "    return 2*x - y\n",
    "\n",
    "def z_func_fy(x, y):\n",
    "\n",
    "    return y * y\n",
    "\n",
    "def z_func_div(x, y):\n",
    "    \n",
    "    return 2 + 2*y"
   ]
  },
  {
   "cell_type": "markdown",
   "metadata": {},
   "source": [
    "## Z fields (x and y components)"
   ]
  },
  {
   "cell_type": "markdown",
   "metadata": {},
   "source": [
    "The gridded field values are calculated for the vector field x- and y- components, as well as the expected teorethical divergence field. "
   ]
  },
  {
   "cell_type": "code",
   "execution_count": 26,
   "metadata": {},
   "outputs": [],
   "source": [
    "rows=100; cols=50"
   ]
  },
  {
   "cell_type": "markdown",
   "metadata": {},
   "source": [
    "### Vector field x-component"
   ]
  },
  {
   "cell_type": "code",
   "execution_count": 27,
   "metadata": {},
   "outputs": [],
   "source": [
    "fx = array_from_function(row_num=rows, col_num=cols, geotransform=gt1, z_transfer_func=z_func_fx)"
   ]
  },
  {
   "cell_type": "code",
   "execution_count": 28,
   "metadata": {},
   "outputs": [
    {
     "name": "stdout",
     "output_type": "stream",
     "text": [
      "[[  15.   35.   55. ...  955.  975.  995.]\n",
      " [  25.   45.   65. ...  965.  985. 1005.]\n",
      " [  35.   55.   75. ...  975.  995. 1015.]\n",
      " ...\n",
      " [ 985. 1005. 1025. ... 1925. 1945. 1965.]\n",
      " [ 995. 1015. 1035. ... 1935. 1955. 1975.]\n",
      " [1005. 1025. 1045. ... 1945. 1965. 1985.]]\n"
     ]
    }
   ],
   "source": [
    "print(fx)"
   ]
  },
  {
   "cell_type": "markdown",
   "metadata": {},
   "source": [
    "### Vector field y-component"
   ]
  },
  {
   "cell_type": "code",
   "execution_count": 29,
   "metadata": {},
   "outputs": [],
   "source": [
    "fy = array_from_function(row_num=rows, col_num=cols, geotransform=gt1, z_transfer_func=z_func_fy)"
   ]
  },
  {
   "cell_type": "code",
   "execution_count": 30,
   "metadata": {},
   "outputs": [
    {
     "name": "stdout",
     "output_type": "stream",
     "text": [
      "[[8970025. 8970025. 8970025. ... 8970025. 8970025. 8970025.]\n",
      " [8910225. 8910225. 8910225. ... 8910225. 8910225. 8910225.]\n",
      " [8850625. 8850625. 8850625. ... 8850625. 8850625. 8850625.]\n",
      " ...\n",
      " [4100625. 4100625. 4100625. ... 4100625. 4100625. 4100625.]\n",
      " [4060225. 4060225. 4060225. ... 4060225. 4060225. 4060225.]\n",
      " [4020025. 4020025. 4020025. ... 4020025. 4020025. 4020025.]]\n"
     ]
    }
   ],
   "source": [
    "print(fy)"
   ]
  },
  {
   "cell_type": "markdown",
   "metadata": {},
   "source": [
    "### Theoretical divergence"
   ]
  },
  {
   "cell_type": "code",
   "execution_count": 31,
   "metadata": {},
   "outputs": [],
   "source": [
    "f_div = array_from_function(row_num=rows, col_num=cols, geotransform=gt1, z_transfer_func=z_func_div)"
   ]
  },
  {
   "cell_type": "code",
   "execution_count": 32,
   "metadata": {},
   "outputs": [
    {
     "name": "stdout",
     "output_type": "stream",
     "text": [
      "[[5992. 5992. 5992. ... 5992. 5992. 5992.]\n",
      " [5972. 5972. 5972. ... 5972. 5972. 5972.]\n",
      " [5952. 5952. 5952. ... 5952. 5952. 5952.]\n",
      " ...\n",
      " [4052. 4052. 4052. ... 4052. 4052. 4052.]\n",
      " [4032. 4032. 4032. ... 4032. 4032. 4032.]\n",
      " [4012. 4012. 4012. ... 4012. 4012. 4012.]]\n"
     ]
    }
   ],
   "source": [
    "print(f_div)"
   ]
  },
  {
   "cell_type": "markdown",
   "metadata": {},
   "source": [
    "## Divergence result and check"
   ]
  },
  {
   "cell_type": "markdown",
   "metadata": {},
   "source": [
    "Divergence as resulting from pygsf calculation:"
   ]
  },
  {
   "cell_type": "code",
   "execution_count": 33,
   "metadata": {},
   "outputs": [],
   "source": [
    "div = divergence_2D(fx, fy, 10, 10)"
   ]
  },
  {
   "cell_type": "code",
   "execution_count": 34,
   "metadata": {},
   "outputs": [
    {
     "name": "stdout",
     "output_type": "stream",
     "text": [
      "[[5992. 5992. 5992. ... 5992. 5992. 5992.]\n",
      " [5972. 5972. 5972. ... 5972. 5972. 5972.]\n",
      " [5952. 5952. 5952. ... 5952. 5952. 5952.]\n",
      " ...\n",
      " [4052. 4052. 4052. ... 4052. 4052. 4052.]\n",
      " [4032. 4032. 4032. ... 4032. 4032. 4032.]\n",
      " [4012. 4012. 4012. ... 4012. 4012. 4012.]]\n"
     ]
    }
   ],
   "source": [
    "print(div)"
   ]
  },
  {
   "cell_type": "code",
   "execution_count": 35,
   "metadata": {},
   "outputs": [
    {
     "data": {
      "text/plain": [
       "True"
      ]
     },
     "execution_count": 35,
     "metadata": {},
     "output_type": "execute_result"
    }
   ],
   "source": [
    "np.allclose(f_div, div)"
   ]
  }
 ],
 "metadata": {
  "kernelspec": {
   "display_name": "Python 3",
   "language": "python",
   "name": "python3"
  },
  "language_info": {
   "codemirror_mode": {
    "name": "ipython",
    "version": 3
   },
   "file_extension": ".py",
   "mimetype": "text/x-python",
   "name": "python",
   "nbconvert_exporter": "python",
   "pygments_lexer": "ipython3",
   "version": "3.5.2"
  }
 },
 "nbformat": 4,
 "nbformat_minor": 2
}
