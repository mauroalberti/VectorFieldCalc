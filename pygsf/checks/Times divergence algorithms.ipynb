{
 "cells": [
  {
   "cell_type": "markdown",
   "metadata": {},
   "source": [
    "From: https://stackoverflow.com/questions/11435809/compute-divergence-of-vector-field-using-python"
   ]
  },
  {
   "cell_type": "code",
   "execution_count": 1,
   "metadata": {},
   "outputs": [],
   "source": [
    "import numpy as np"
   ]
  },
  {
   "cell_type": "code",
   "execution_count": 2,
   "metadata": {},
   "outputs": [],
   "source": [
    "def divergence(F):\n",
    "    \"\"\" compute the divergence of n-D scalar field `F` \"\"\"\n",
    "    return reduce(np.add,np.gradient(F))"
   ]
  },
  {
   "cell_type": "code",
   "execution_count": 3,
   "metadata": {},
   "outputs": [],
   "source": [
    "F = np.random.rand(100,100, 2)"
   ]
  },
  {
   "cell_type": "code",
   "execution_count": 4,
   "metadata": {},
   "outputs": [
    {
     "data": {
      "text/plain": [
       "array([[[0.88142525, 0.24443318],\n",
       "        [0.00135432, 0.89689191],\n",
       "        [0.08474679, 0.84983573],\n",
       "        ...,\n",
       "        [0.12233238, 0.78469751],\n",
       "        [0.97936033, 0.72887942],\n",
       "        [0.8964754 , 0.2184393 ]],\n",
       "\n",
       "       [[0.30282233, 0.82947328],\n",
       "        [0.22106212, 0.13454382],\n",
       "        [0.84120343, 0.23659951],\n",
       "        ...,\n",
       "        [0.42194912, 0.15544025],\n",
       "        [0.95672976, 0.15030339],\n",
       "        [0.53296051, 0.85223628]],\n",
       "\n",
       "       [[0.71051955, 0.69888972],\n",
       "        [0.62223623, 0.7653272 ],\n",
       "        [0.79810986, 0.29640361],\n",
       "        ...,\n",
       "        [0.15941515, 0.94880138],\n",
       "        [0.99725267, 0.61632127],\n",
       "        [0.1856855 , 0.73030907]],\n",
       "\n",
       "       ...,\n",
       "\n",
       "       [[0.40496772, 0.68430651],\n",
       "        [0.48898026, 0.48498305],\n",
       "        [0.41271505, 0.05415612],\n",
       "        ...,\n",
       "        [0.95198555, 0.06105439],\n",
       "        [0.0066603 , 0.29432891],\n",
       "        [0.17251923, 0.91854831]],\n",
       "\n",
       "       [[0.5737313 , 0.24222047],\n",
       "        [0.76771042, 0.2485456 ],\n",
       "        [0.19700872, 0.57047935],\n",
       "        ...,\n",
       "        [0.00947115, 0.9680146 ],\n",
       "        [0.13603564, 0.11584962],\n",
       "        [0.02293249, 0.39202778]],\n",
       "\n",
       "       [[0.87534928, 0.29267478],\n",
       "        [0.3316128 , 0.997441  ],\n",
       "        [0.33995011, 0.14237696],\n",
       "        ...,\n",
       "        [0.89482744, 0.5754303 ],\n",
       "        [0.55839409, 0.35315022],\n",
       "        [0.48060614, 0.76801664]]])"
      ]
     },
     "execution_count": 4,
     "metadata": {},
     "output_type": "execute_result"
    }
   ],
   "source": [
    "F"
   ]
  },
  {
   "cell_type": "code",
   "execution_count": 5,
   "metadata": {},
   "outputs": [
    {
     "data": {
      "text/plain": [
       "3"
      ]
     },
     "execution_count": 5,
     "metadata": {},
     "output_type": "execute_result"
    }
   ],
   "source": [
    "F.ndim"
   ]
  },
  {
   "cell_type": "code",
   "execution_count": 6,
   "metadata": {},
   "outputs": [
    {
     "data": {
      "text/plain": [
       "(100, 100, 2)"
      ]
     },
     "execution_count": 6,
     "metadata": {},
     "output_type": "execute_result"
    }
   ],
   "source": [
    "F.shape"
   ]
  },
  {
   "cell_type": "code",
   "execution_count": 7,
   "metadata": {},
   "outputs": [],
   "source": [
    "from functools import reduce"
   ]
  },
  {
   "cell_type": "code",
   "execution_count": 8,
   "metadata": {},
   "outputs": [],
   "source": [
    "def divergence_a(field):\n",
    "    \"return the divergence of a n-D field\"\n",
    "    return np.sum(np.gradient(field),axis=0)"
   ]
  },
  {
   "cell_type": "code",
   "execution_count": 9,
   "metadata": {},
   "outputs": [
    {
     "name": "stdout",
     "output_type": "stream",
     "text": [
      "252 µs ± 7.53 µs per loop (mean ± std. dev. of 7 runs, 1000 loops each)\n"
     ]
    }
   ],
   "source": [
    "timeit divergence_a(F)"
   ]
  },
  {
   "cell_type": "code",
   "execution_count": 10,
   "metadata": {},
   "outputs": [],
   "source": [
    "d_a = divergence(F)"
   ]
  },
  {
   "cell_type": "code",
   "execution_count": 11,
   "metadata": {},
   "outputs": [
    {
     "data": {
      "text/plain": [
       "(100, 100, 2)"
      ]
     },
     "execution_count": 11,
     "metadata": {},
     "output_type": "execute_result"
    }
   ],
   "source": [
    "d_a.shape"
   ]
  },
  {
   "cell_type": "code",
   "execution_count": 12,
   "metadata": {},
   "outputs": [],
   "source": [
    "def divergence_b(F):\n",
    "    \"\"\" compute the divergence of n-D scalar field `F` \"\"\"\n",
    "    return reduce(np.add,np.gradient(F))"
   ]
  },
  {
   "cell_type": "code",
   "execution_count": 13,
   "metadata": {},
   "outputs": [
    {
     "name": "stdout",
     "output_type": "stream",
     "text": [
      "218 µs ± 11 µs per loop (mean ± std. dev. of 7 runs, 1000 loops each)\n"
     ]
    }
   ],
   "source": [
    "timeit divergence_b(F)"
   ]
  },
  {
   "cell_type": "code",
   "execution_count": 14,
   "metadata": {},
   "outputs": [],
   "source": [
    "d_b = divergence_b(F)"
   ]
  },
  {
   "cell_type": "code",
   "execution_count": 15,
   "metadata": {},
   "outputs": [
    {
     "data": {
      "text/plain": [
       "(100, 100, 2)"
      ]
     },
     "execution_count": 15,
     "metadata": {},
     "output_type": "execute_result"
    }
   ],
   "source": [
    "d_b.shape"
   ]
  },
  {
   "cell_type": "code",
   "execution_count": 16,
   "metadata": {},
   "outputs": [
    {
     "data": {
      "text/plain": [
       "True"
      ]
     },
     "execution_count": 16,
     "metadata": {},
     "output_type": "execute_result"
    }
   ],
   "source": [
    "np.allclose(d_a, d_b)"
   ]
  },
  {
   "cell_type": "code",
   "execution_count": 17,
   "metadata": {},
   "outputs": [],
   "source": [
    "F = np.random.rand(100,100, 2)"
   ]
  },
  {
   "cell_type": "code",
   "execution_count": 18,
   "metadata": {},
   "outputs": [],
   "source": [
    "def my_divergence(F):\n",
    "    dvx_dx = np.gradient(F[:, :, 0])[1]\n",
    "    dvy_dy = -(np.gradient(F[:, :, 1])[0])\n",
    "    return dvx_dx + dvy_dy"
   ]
  },
  {
   "cell_type": "code",
   "execution_count": 19,
   "metadata": {},
   "outputs": [
    {
     "name": "stdout",
     "output_type": "stream",
     "text": [
      "184 µs ± 1.84 µs per loop (mean ± std. dev. of 7 runs, 10000 loops each)\n"
     ]
    }
   ],
   "source": [
    "timeit my_divergence(F)"
   ]
  },
  {
   "cell_type": "code",
   "execution_count": 20,
   "metadata": {},
   "outputs": [],
   "source": [
    "d_m = my_divergence(F)"
   ]
  },
  {
   "cell_type": "code",
   "execution_count": 21,
   "metadata": {},
   "outputs": [],
   "source": [
    "F1, F2 = F[:, :, 0], F[:, :, 1]"
   ]
  },
  {
   "cell_type": "code",
   "execution_count": 22,
   "metadata": {},
   "outputs": [],
   "source": [
    "def my_divergence_split(F1, F2):\n",
    "    dvx_dx = np.gradient(F1, axis=1)\n",
    "    dvy_dy = np.gradient(F2, axis=0)\n",
    "    return dvx_dx - dvy_dy"
   ]
  },
  {
   "cell_type": "code",
   "execution_count": 23,
   "metadata": {},
   "outputs": [
    {
     "name": "stdout",
     "output_type": "stream",
     "text": [
      "105 µs ± 495 ns per loop (mean ± std. dev. of 7 runs, 10000 loops each)\n"
     ]
    }
   ],
   "source": [
    "timeit my_divergence_split(F1, F2)"
   ]
  },
  {
   "cell_type": "code",
   "execution_count": 24,
   "metadata": {},
   "outputs": [],
   "source": [
    "d_s = my_divergence_split(F1, F2)"
   ]
  },
  {
   "cell_type": "code",
   "execution_count": 25,
   "metadata": {},
   "outputs": [
    {
     "data": {
      "text/plain": [
       "True"
      ]
     },
     "execution_count": 25,
     "metadata": {},
     "output_type": "execute_result"
    }
   ],
   "source": [
    "np.allclose(d_m, d_s)"
   ]
  }
 ],
 "metadata": {
  "kernelspec": {
   "display_name": "Python 3",
   "language": "python",
   "name": "python3"
  },
  "language_info": {
   "codemirror_mode": {
    "name": "ipython",
    "version": 3
   },
   "file_extension": ".py",
   "mimetype": "text/x-python",
   "name": "python",
   "nbconvert_exporter": "python",
   "pygments_lexer": "ipython3",
   "version": "3.5.2"
  }
 },
 "nbformat": 4,
 "nbformat_minor": 2
}
